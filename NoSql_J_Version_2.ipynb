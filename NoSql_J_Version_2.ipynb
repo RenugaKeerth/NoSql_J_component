{
  "nbformat": 4,
  "nbformat_minor": 5,
  "metadata": {
    "kernelspec": {
      "display_name": "Python 3",
      "language": "python",
      "name": "python3"
    },
    "language_info": {
      "codemirror_mode": {
        "name": "ipython",
        "version": 3
      },
      "file_extension": ".py",
      "mimetype": "text/x-python",
      "name": "python",
      "nbconvert_exporter": "python",
      "pygments_lexer": "ipython3",
      "version": "3.9.2"
    },
    "colab": {
      "name": "NoSql_J_Version_2.ipynb",
      "provenance": []
    }
  },
  "cells": [
    {
      "cell_type": "code",
      "metadata": {
        "id": "mexican-theology"
      },
      "source": [
        "%config Completer.use_jedi = False"
      ],
      "id": "mexican-theology",
      "execution_count": null,
      "outputs": []
    },
    {
      "cell_type": "code",
      "metadata": {
        "id": "municipal-testing"
      },
      "source": [
        "import pandas as pd\n",
        "import numpy as np\n",
        "import matplotlib.pyplot as plt\n",
        "from sklearn.svm import SVC\n",
        "from sklearn.preprocessing import MinMaxScaler\n",
        "from sklearn.linear_model import LogisticRegression\n",
        "from sklearn.model_selection import train_test_split\n",
        "from sklearn.metrics import classification_report,confusion_matrix,accuracy_score\n",
        "%matplotlib inline"
      ],
      "id": "municipal-testing",
      "execution_count": null,
      "outputs": []
    },
    {
      "cell_type": "code",
      "metadata": {
        "id": "statistical-payroll"
      },
      "source": [
        "from pymongo import MongoClient\n",
        "client = MongoClient()\n",
        "db = client.Project"
      ],
      "id": "statistical-payroll",
      "execution_count": null,
      "outputs": []
    },
    {
      "cell_type": "code",
      "metadata": {
        "id": "accessory-bryan"
      },
      "source": [
        "collection = db.Users\n",
        "OriginalData = pd.DataFrame(list(collection.find()))"
      ],
      "id": "accessory-bryan",
      "execution_count": null,
      "outputs": []
    },
    {
      "cell_type": "code",
      "metadata": {
        "id": "previous-county"
      },
      "source": [
        "collection = db.Fusers\n",
        "FakeData = pd.DataFrame(list(collection.find()))"
      ],
      "id": "previous-county",
      "execution_count": null,
      "outputs": []
    },
    {
      "cell_type": "code",
      "metadata": {
        "id": "mechanical-dispute"
      },
      "source": [
        "OriginalData.drop(\"_id\",axis=1,inplace=True)"
      ],
      "id": "mechanical-dispute",
      "execution_count": null,
      "outputs": []
    },
    {
      "cell_type": "code",
      "metadata": {
        "id": "broken-reputation"
      },
      "source": [
        "FakeData.drop(\"_id\",axis=1,inplace=True)"
      ],
      "id": "broken-reputation",
      "execution_count": null,
      "outputs": []
    },
    {
      "cell_type": "code",
      "metadata": {
        "id": "quick-fleece"
      },
      "source": [
        "gusers=OriginalData\n",
        "fusers=FakeData"
      ],
      "id": "quick-fleece",
      "execution_count": null,
      "outputs": []
    },
    {
      "cell_type": "code",
      "metadata": {
        "id": "sweet-sierra"
      },
      "source": [
        "x=pd.concat([gusers,fusers])"
      ],
      "id": "sweet-sierra",
      "execution_count": null,
      "outputs": []
    },
    {
      "cell_type": "code",
      "metadata": {
        "id": "spare-lover"
      },
      "source": [
        "y=len(gusers)*[1]+len(fusers)*[0]"
      ],
      "id": "spare-lover",
      "execution_count": null,
      "outputs": []
    },
    {
      "cell_type": "code",
      "metadata": {
        "id": "postal-necklace",
        "outputId": "73684c99-e156-4006-d333-0a6d88f2cb27"
      },
      "source": [
        "x"
      ],
      "id": "postal-necklace",
      "execution_count": null,
      "outputs": [
        {
          "output_type": "execute_result",
          "data": {
            "text/html": [
              "<div>\n",
              "<style scoped>\n",
              "    .dataframe tbody tr th:only-of-type {\n",
              "        vertical-align: middle;\n",
              "    }\n",
              "\n",
              "    .dataframe tbody tr th {\n",
              "        vertical-align: top;\n",
              "    }\n",
              "\n",
              "    .dataframe thead th {\n",
              "        text-align: right;\n",
              "    }\n",
              "</style>\n",
              "<table border=\"1\" class=\"dataframe\">\n",
              "  <thead>\n",
              "    <tr style=\"text-align: right;\">\n",
              "      <th></th>\n",
              "      <th>id</th>\n",
              "      <th>name</th>\n",
              "      <th>screen_name</th>\n",
              "      <th>statuses_count</th>\n",
              "      <th>followers_count</th>\n",
              "      <th>friends_count</th>\n",
              "      <th>favourites_count</th>\n",
              "      <th>listed_count</th>\n",
              "      <th>created_at</th>\n",
              "      <th>url</th>\n",
              "      <th>...</th>\n",
              "      <th>profile_sidebar_fill_color</th>\n",
              "      <th>profile_background_image_url</th>\n",
              "      <th>profile_background_color</th>\n",
              "      <th>profile_link_color</th>\n",
              "      <th>utc_offset</th>\n",
              "      <th>protected</th>\n",
              "      <th>verified</th>\n",
              "      <th>description</th>\n",
              "      <th>updated</th>\n",
              "      <th>dataset</th>\n",
              "    </tr>\n",
              "  </thead>\n",
              "  <tbody>\n",
              "    <tr>\n",
              "      <th>0</th>\n",
              "      <td>3610511</td>\n",
              "      <td>Davide Dellacasa</td>\n",
              "      <td>braddd</td>\n",
              "      <td>20370</td>\n",
              "      <td>5470</td>\n",
              "      <td>2385</td>\n",
              "      <td>145</td>\n",
              "      <td>52</td>\n",
              "      <td>Fri Apr 06 10:58:22 +0000 2007</td>\n",
              "      <td>http://braddd.tumblr.com</td>\n",
              "      <td>...</td>\n",
              "      <td>FFF7CC</td>\n",
              "      <td>http://a0.twimg.com/profile_background_images/...</td>\n",
              "      <td>BADFCD</td>\n",
              "      <td>FF0000</td>\n",
              "      <td>3600</td>\n",
              "      <td></td>\n",
              "      <td></td>\n",
              "      <td>Founder of http://www.screenweek.it &amp; http://w...</td>\n",
              "      <td>2015-02-14 10:54:49</td>\n",
              "      <td>E13</td>\n",
              "    </tr>\n",
              "    <tr>\n",
              "      <th>1</th>\n",
              "      <td>5682702</td>\n",
              "      <td>tacone</td>\n",
              "      <td>tacone_</td>\n",
              "      <td>4024</td>\n",
              "      <td>264</td>\n",
              "      <td>87</td>\n",
              "      <td>323</td>\n",
              "      <td>16</td>\n",
              "      <td>Tue May 01 11:53:40 +0000 2007</td>\n",
              "      <td>http://t.co/LKrl1dZE</td>\n",
              "      <td>...</td>\n",
              "      <td>0</td>\n",
              "      <td>http://a0.twimg.com/profile_background_images/...</td>\n",
              "      <td>1A1B1F</td>\n",
              "      <td>2FC2EF</td>\n",
              "      <td>3600</td>\n",
              "      <td></td>\n",
              "      <td></td>\n",
              "      <td>Cogito ergo bestemmio.</td>\n",
              "      <td>2015-02-14 10:54:49</td>\n",
              "      <td>E13</td>\n",
              "    </tr>\n",
              "    <tr>\n",
              "      <th>2</th>\n",
              "      <td>6140012</td>\n",
              "      <td>CRISTIAN PAOLINI</td>\n",
              "      <td>crispaol</td>\n",
              "      <td>3603</td>\n",
              "      <td>138</td>\n",
              "      <td>179</td>\n",
              "      <td>53</td>\n",
              "      <td>1</td>\n",
              "      <td>Fri May 18 15:16:20 +0000 2007</td>\n",
              "      <td></td>\n",
              "      <td>...</td>\n",
              "      <td>DAECF4</td>\n",
              "      <td>http://a0.twimg.com/profile_background_images/...</td>\n",
              "      <td>C6E2EE</td>\n",
              "      <td>1F98C7</td>\n",
              "      <td>3600</td>\n",
              "      <td></td>\n",
              "      <td></td>\n",
              "      <td>Swiper non rubare, Swiper non rubare!</td>\n",
              "      <td>2015-02-14 10:54:49</td>\n",
              "      <td>E13</td>\n",
              "    </tr>\n",
              "    <tr>\n",
              "      <th>3</th>\n",
              "      <td>6134312</td>\n",
              "      <td>tmpx</td>\n",
              "      <td>tmpx</td>\n",
              "      <td>1183</td>\n",
              "      <td>128</td>\n",
              "      <td>168</td>\n",
              "      <td>2</td>\n",
              "      <td>5</td>\n",
              "      <td>Fri May 18 10:28:11 +0000 2007</td>\n",
              "      <td></td>\n",
              "      <td>...</td>\n",
              "      <td>EFEFEF</td>\n",
              "      <td>http://a0.twimg.com/images/themes/theme14/bg.gif</td>\n",
              "      <td>131516</td>\n",
              "      <td>9999</td>\n",
              "      <td>3600</td>\n",
              "      <td></td>\n",
              "      <td></td>\n",
              "      <td>I never saw a wild thing sorry for itself.A sm...</td>\n",
              "      <td>2015-02-14 10:54:49</td>\n",
              "      <td>E13</td>\n",
              "    </tr>\n",
              "    <tr>\n",
              "      <th>4</th>\n",
              "      <td>5656162</td>\n",
              "      <td>Simone Economo</td>\n",
              "      <td>eKoeS</td>\n",
              "      <td>3131</td>\n",
              "      <td>506</td>\n",
              "      <td>381</td>\n",
              "      <td>9</td>\n",
              "      <td>40</td>\n",
              "      <td>Mon Apr 30 15:08:42 +0000 2007</td>\n",
              "      <td>http://www.lineheight.net/</td>\n",
              "      <td>...</td>\n",
              "      <td>DDEEF6</td>\n",
              "      <td>http://a0.twimg.com/images/themes/theme1/bg.png</td>\n",
              "      <td>C0DEED</td>\n",
              "      <td>0084B4</td>\n",
              "      <td>3600</td>\n",
              "      <td></td>\n",
              "      <td></td>\n",
              "      <td>BSc degree (cum laude) in Computer Engineering...</td>\n",
              "      <td>2015-02-14 10:54:49</td>\n",
              "      <td>E13</td>\n",
              "    </tr>\n",
              "    <tr>\n",
              "      <th>...</th>\n",
              "      <td>...</td>\n",
              "      <td>...</td>\n",
              "      <td>...</td>\n",
              "      <td>...</td>\n",
              "      <td>...</td>\n",
              "      <td>...</td>\n",
              "      <td>...</td>\n",
              "      <td>...</td>\n",
              "      <td>...</td>\n",
              "      <td>...</td>\n",
              "      <td>...</td>\n",
              "      <td>...</td>\n",
              "      <td>...</td>\n",
              "      <td>...</td>\n",
              "      <td>...</td>\n",
              "      <td>...</td>\n",
              "      <td>...</td>\n",
              "      <td>...</td>\n",
              "      <td>...</td>\n",
              "      <td>...</td>\n",
              "      <td>...</td>\n",
              "    </tr>\n",
              "    <tr>\n",
              "      <th>1332</th>\n",
              "      <td>1391832212</td>\n",
              "      <td>Harriett Harvey</td>\n",
              "      <td>HarriettHarvey9</td>\n",
              "      <td>2</td>\n",
              "      <td>0</td>\n",
              "      <td>16</td>\n",
              "      <td>0</td>\n",
              "      <td>0</td>\n",
              "      <td>Tue Apr 30 11:25:11 +0000 2013</td>\n",
              "      <td></td>\n",
              "      <td>...</td>\n",
              "      <td>DDEEF6</td>\n",
              "      <td>http://a0.twimg.com/images/themes/theme1/bg.png</td>\n",
              "      <td>C0DEED</td>\n",
              "      <td>0084B4</td>\n",
              "      <td></td>\n",
              "      <td></td>\n",
              "      <td></td>\n",
              "      <td></td>\n",
              "      <td>2015-02-14 10:40:01</td>\n",
              "      <td>INT</td>\n",
              "    </tr>\n",
              "    <tr>\n",
              "      <th>1333</th>\n",
              "      <td>1388028872</td>\n",
              "      <td>Delmer Morris</td>\n",
              "      <td>DelmerMorris1</td>\n",
              "      <td>1</td>\n",
              "      <td>1</td>\n",
              "      <td>12</td>\n",
              "      <td>0</td>\n",
              "      <td>0</td>\n",
              "      <td>Sun Apr 28 22:04:02 +0000 2013</td>\n",
              "      <td></td>\n",
              "      <td>...</td>\n",
              "      <td>DDEEF6</td>\n",
              "      <td>http://a0.twimg.com/images/themes/theme1/bg.png</td>\n",
              "      <td>C0DEED</td>\n",
              "      <td>0084B4</td>\n",
              "      <td></td>\n",
              "      <td></td>\n",
              "      <td></td>\n",
              "      <td>| TeamDarkSkinn , 5'9 , Tha Name iss BiiG RICH...</td>\n",
              "      <td>2015-02-14 10:40:01</td>\n",
              "      <td>INT</td>\n",
              "    </tr>\n",
              "    <tr>\n",
              "      <th>1334</th>\n",
              "      <td>1391544607</td>\n",
              "      <td>Danial Campbell</td>\n",
              "      <td>DanialCampbell2</td>\n",
              "      <td>0</td>\n",
              "      <td>1</td>\n",
              "      <td>17</td>\n",
              "      <td>0</td>\n",
              "      <td>0</td>\n",
              "      <td>Tue Apr 30 08:34:49 +0000 2013</td>\n",
              "      <td></td>\n",
              "      <td>...</td>\n",
              "      <td>DDEEF6</td>\n",
              "      <td>http://a0.twimg.com/images/themes/theme1/bg.png</td>\n",
              "      <td>C0DEED</td>\n",
              "      <td>0084B4</td>\n",
              "      <td></td>\n",
              "      <td></td>\n",
              "      <td></td>\n",
              "      <td></td>\n",
              "      <td>2015-02-14 10:40:01</td>\n",
              "      <td>INT</td>\n",
              "    </tr>\n",
              "    <tr>\n",
              "      <th>1335</th>\n",
              "      <td>1391998039</td>\n",
              "      <td>Gillian Wheeler</td>\n",
              "      <td>GillianWheeler3</td>\n",
              "      <td>0</td>\n",
              "      <td>0</td>\n",
              "      <td>17</td>\n",
              "      <td>0</td>\n",
              "      <td>0</td>\n",
              "      <td>Tue Apr 30 12:47:51 +0000 2013</td>\n",
              "      <td></td>\n",
              "      <td>...</td>\n",
              "      <td>DDEEF6</td>\n",
              "      <td>http://a0.twimg.com/images/themes/theme1/bg.png</td>\n",
              "      <td>C0DEED</td>\n",
              "      <td>0084B4</td>\n",
              "      <td></td>\n",
              "      <td></td>\n",
              "      <td></td>\n",
              "      <td>Hello!im a BELIEBER! IM A HUGE FAN OF JUSTIN B...</td>\n",
              "      <td>2015-02-14 10:40:01</td>\n",
              "      <td>INT</td>\n",
              "    </tr>\n",
              "    <tr>\n",
              "      <th>1336</th>\n",
              "      <td>1391497074</td>\n",
              "      <td>Verda Marks</td>\n",
              "      <td>VerdaMarks1</td>\n",
              "      <td>1</td>\n",
              "      <td>0</td>\n",
              "      <td>17</td>\n",
              "      <td>0</td>\n",
              "      <td>0</td>\n",
              "      <td>Tue Apr 30 08:23:57 +0000 2013</td>\n",
              "      <td></td>\n",
              "      <td>...</td>\n",
              "      <td>DDEEF6</td>\n",
              "      <td>http://a0.twimg.com/images/themes/theme1/bg.png</td>\n",
              "      <td>C0DEED</td>\n",
              "      <td>0084B4</td>\n",
              "      <td></td>\n",
              "      <td></td>\n",
              "      <td></td>\n",
              "      <td>I have been in business onlin and offline for ...</td>\n",
              "      <td>2015-02-14 10:40:01</td>\n",
              "      <td>INT</td>\n",
              "    </tr>\n",
              "  </tbody>\n",
              "</table>\n",
              "<p>2818 rows × 34 columns</p>\n",
              "</div>"
            ],
            "text/plain": [
              "              id              name      screen_name  statuses_count  \\\n",
              "0        3610511  Davide Dellacasa           braddd           20370   \n",
              "1        5682702            tacone          tacone_            4024   \n",
              "2        6140012  CRISTIAN PAOLINI         crispaol            3603   \n",
              "3        6134312              tmpx             tmpx            1183   \n",
              "4        5656162    Simone Economo            eKoeS            3131   \n",
              "...          ...               ...              ...             ...   \n",
              "1332  1391832212   Harriett Harvey  HarriettHarvey9               2   \n",
              "1333  1388028872     Delmer Morris    DelmerMorris1               1   \n",
              "1334  1391544607   Danial Campbell  DanialCampbell2               0   \n",
              "1335  1391998039   Gillian Wheeler  GillianWheeler3               0   \n",
              "1336  1391497074       Verda Marks      VerdaMarks1               1   \n",
              "\n",
              "      followers_count  friends_count  favourites_count  listed_count  \\\n",
              "0                5470           2385               145            52   \n",
              "1                 264             87               323            16   \n",
              "2                 138            179                53             1   \n",
              "3                 128            168                 2             5   \n",
              "4                 506            381                 9            40   \n",
              "...               ...            ...               ...           ...   \n",
              "1332                0             16                 0             0   \n",
              "1333                1             12                 0             0   \n",
              "1334                1             17                 0             0   \n",
              "1335                0             17                 0             0   \n",
              "1336                0             17                 0             0   \n",
              "\n",
              "                          created_at                         url  ...  \\\n",
              "0     Fri Apr 06 10:58:22 +0000 2007    http://braddd.tumblr.com  ...   \n",
              "1     Tue May 01 11:53:40 +0000 2007        http://t.co/LKrl1dZE  ...   \n",
              "2     Fri May 18 15:16:20 +0000 2007                              ...   \n",
              "3     Fri May 18 10:28:11 +0000 2007                              ...   \n",
              "4     Mon Apr 30 15:08:42 +0000 2007  http://www.lineheight.net/  ...   \n",
              "...                              ...                         ...  ...   \n",
              "1332  Tue Apr 30 11:25:11 +0000 2013                              ...   \n",
              "1333  Sun Apr 28 22:04:02 +0000 2013                              ...   \n",
              "1334  Tue Apr 30 08:34:49 +0000 2013                              ...   \n",
              "1335  Tue Apr 30 12:47:51 +0000 2013                              ...   \n",
              "1336  Tue Apr 30 08:23:57 +0000 2013                              ...   \n",
              "\n",
              "     profile_sidebar_fill_color  \\\n",
              "0                        FFF7CC   \n",
              "1                             0   \n",
              "2                        DAECF4   \n",
              "3                        EFEFEF   \n",
              "4                        DDEEF6   \n",
              "...                         ...   \n",
              "1332                     DDEEF6   \n",
              "1333                     DDEEF6   \n",
              "1334                     DDEEF6   \n",
              "1335                     DDEEF6   \n",
              "1336                     DDEEF6   \n",
              "\n",
              "                           profile_background_image_url  \\\n",
              "0     http://a0.twimg.com/profile_background_images/...   \n",
              "1     http://a0.twimg.com/profile_background_images/...   \n",
              "2     http://a0.twimg.com/profile_background_images/...   \n",
              "3      http://a0.twimg.com/images/themes/theme14/bg.gif   \n",
              "4       http://a0.twimg.com/images/themes/theme1/bg.png   \n",
              "...                                                 ...   \n",
              "1332    http://a0.twimg.com/images/themes/theme1/bg.png   \n",
              "1333    http://a0.twimg.com/images/themes/theme1/bg.png   \n",
              "1334    http://a0.twimg.com/images/themes/theme1/bg.png   \n",
              "1335    http://a0.twimg.com/images/themes/theme1/bg.png   \n",
              "1336    http://a0.twimg.com/images/themes/theme1/bg.png   \n",
              "\n",
              "     profile_background_color profile_link_color utc_offset protected  \\\n",
              "0                      BADFCD             FF0000       3600             \n",
              "1                      1A1B1F             2FC2EF       3600             \n",
              "2                      C6E2EE             1F98C7       3600             \n",
              "3                      131516               9999       3600             \n",
              "4                      C0DEED             0084B4       3600             \n",
              "...                       ...                ...        ...       ...   \n",
              "1332                   C0DEED             0084B4                        \n",
              "1333                   C0DEED             0084B4                        \n",
              "1334                   C0DEED             0084B4                        \n",
              "1335                   C0DEED             0084B4                        \n",
              "1336                   C0DEED             0084B4                        \n",
              "\n",
              "     verified                                        description  \\\n",
              "0              Founder of http://www.screenweek.it & http://w...   \n",
              "1                                         Cogito ergo bestemmio.   \n",
              "2                          Swiper non rubare, Swiper non rubare!   \n",
              "3              I never saw a wild thing sorry for itself.A sm...   \n",
              "4              BSc degree (cum laude) in Computer Engineering...   \n",
              "...       ...                                                ...   \n",
              "1332                                                               \n",
              "1333           | TeamDarkSkinn , 5'9 , Tha Name iss BiiG RICH...   \n",
              "1334                                                               \n",
              "1335           Hello!im a BELIEBER! IM A HUGE FAN OF JUSTIN B...   \n",
              "1336           I have been in business onlin and offline for ...   \n",
              "\n",
              "                  updated dataset  \n",
              "0     2015-02-14 10:54:49     E13  \n",
              "1     2015-02-14 10:54:49     E13  \n",
              "2     2015-02-14 10:54:49     E13  \n",
              "3     2015-02-14 10:54:49     E13  \n",
              "4     2015-02-14 10:54:49     E13  \n",
              "...                   ...     ...  \n",
              "1332  2015-02-14 10:40:01     INT  \n",
              "1333  2015-02-14 10:40:01     INT  \n",
              "1334  2015-02-14 10:40:01     INT  \n",
              "1335  2015-02-14 10:40:01     INT  \n",
              "1336  2015-02-14 10:40:01     INT  \n",
              "\n",
              "[2818 rows x 34 columns]"
            ]
          },
          "metadata": {
            "tags": []
          },
          "execution_count": 11
        }
      ]
    },
    {
      "cell_type": "code",
      "metadata": {
        "id": "excess-advancement"
      },
      "source": [
        "def extract_features(x):\n",
        "    lang_list = list(enumerate(np.unique(x['lang'])))   \n",
        "    lang_dict = { name : i for i, name in lang_list }             \n",
        "    x.loc[:,'lang_code'] = x['lang'].map( lambda x: lang_dict[x]).astype(int)    \n",
        "    feature_columns_to_use = ['statuses_count','followers_count','friends_count','favourites_count','listed_count','lang_code']\n",
        "    x=x.loc[:,feature_columns_to_use]\n",
        "    return x\n",
        "  \n",
        "x=extract_features(x)"
      ],
      "id": "excess-advancement",
      "execution_count": null,
      "outputs": []
    },
    {
      "cell_type": "code",
      "metadata": {
        "id": "received-philadelphia",
        "outputId": "84495a6c-a9bc-4ff1-d5ee-bf1cb2436751"
      },
      "source": [
        "x"
      ],
      "id": "received-philadelphia",
      "execution_count": null,
      "outputs": [
        {
          "output_type": "execute_result",
          "data": {
            "text/html": [
              "<div>\n",
              "<style scoped>\n",
              "    .dataframe tbody tr th:only-of-type {\n",
              "        vertical-align: middle;\n",
              "    }\n",
              "\n",
              "    .dataframe tbody tr th {\n",
              "        vertical-align: top;\n",
              "    }\n",
              "\n",
              "    .dataframe thead th {\n",
              "        text-align: right;\n",
              "    }\n",
              "</style>\n",
              "<table border=\"1\" class=\"dataframe\">\n",
              "  <thead>\n",
              "    <tr style=\"text-align: right;\">\n",
              "      <th></th>\n",
              "      <th>statuses_count</th>\n",
              "      <th>followers_count</th>\n",
              "      <th>friends_count</th>\n",
              "      <th>favourites_count</th>\n",
              "      <th>listed_count</th>\n",
              "      <th>lang_code</th>\n",
              "    </tr>\n",
              "  </thead>\n",
              "  <tbody>\n",
              "    <tr>\n",
              "      <th>0</th>\n",
              "      <td>20370</td>\n",
              "      <td>5470</td>\n",
              "      <td>2385</td>\n",
              "      <td>145</td>\n",
              "      <td>52</td>\n",
              "      <td>5</td>\n",
              "    </tr>\n",
              "    <tr>\n",
              "      <th>1</th>\n",
              "      <td>4024</td>\n",
              "      <td>264</td>\n",
              "      <td>87</td>\n",
              "      <td>323</td>\n",
              "      <td>16</td>\n",
              "      <td>1</td>\n",
              "    </tr>\n",
              "    <tr>\n",
              "      <th>2</th>\n",
              "      <td>3603</td>\n",
              "      <td>138</td>\n",
              "      <td>179</td>\n",
              "      <td>53</td>\n",
              "      <td>1</td>\n",
              "      <td>5</td>\n",
              "    </tr>\n",
              "    <tr>\n",
              "      <th>3</th>\n",
              "      <td>1183</td>\n",
              "      <td>128</td>\n",
              "      <td>168</td>\n",
              "      <td>2</td>\n",
              "      <td>5</td>\n",
              "      <td>1</td>\n",
              "    </tr>\n",
              "    <tr>\n",
              "      <th>4</th>\n",
              "      <td>3131</td>\n",
              "      <td>506</td>\n",
              "      <td>381</td>\n",
              "      <td>9</td>\n",
              "      <td>40</td>\n",
              "      <td>1</td>\n",
              "    </tr>\n",
              "    <tr>\n",
              "      <th>...</th>\n",
              "      <td>...</td>\n",
              "      <td>...</td>\n",
              "      <td>...</td>\n",
              "      <td>...</td>\n",
              "      <td>...</td>\n",
              "      <td>...</td>\n",
              "    </tr>\n",
              "    <tr>\n",
              "      <th>1332</th>\n",
              "      <td>2</td>\n",
              "      <td>0</td>\n",
              "      <td>16</td>\n",
              "      <td>0</td>\n",
              "      <td>0</td>\n",
              "      <td>1</td>\n",
              "    </tr>\n",
              "    <tr>\n",
              "      <th>1333</th>\n",
              "      <td>1</td>\n",
              "      <td>1</td>\n",
              "      <td>12</td>\n",
              "      <td>0</td>\n",
              "      <td>0</td>\n",
              "      <td>1</td>\n",
              "    </tr>\n",
              "    <tr>\n",
              "      <th>1334</th>\n",
              "      <td>0</td>\n",
              "      <td>1</td>\n",
              "      <td>17</td>\n",
              "      <td>0</td>\n",
              "      <td>0</td>\n",
              "      <td>1</td>\n",
              "    </tr>\n",
              "    <tr>\n",
              "      <th>1335</th>\n",
              "      <td>0</td>\n",
              "      <td>0</td>\n",
              "      <td>17</td>\n",
              "      <td>0</td>\n",
              "      <td>0</td>\n",
              "      <td>1</td>\n",
              "    </tr>\n",
              "    <tr>\n",
              "      <th>1336</th>\n",
              "      <td>1</td>\n",
              "      <td>0</td>\n",
              "      <td>17</td>\n",
              "      <td>0</td>\n",
              "      <td>0</td>\n",
              "      <td>1</td>\n",
              "    </tr>\n",
              "  </tbody>\n",
              "</table>\n",
              "<p>2818 rows × 6 columns</p>\n",
              "</div>"
            ],
            "text/plain": [
              "      statuses_count  followers_count  friends_count  favourites_count  \\\n",
              "0              20370             5470           2385               145   \n",
              "1               4024              264             87               323   \n",
              "2               3603              138            179                53   \n",
              "3               1183              128            168                 2   \n",
              "4               3131              506            381                 9   \n",
              "...              ...              ...            ...               ...   \n",
              "1332               2                0             16                 0   \n",
              "1333               1                1             12                 0   \n",
              "1334               0                1             17                 0   \n",
              "1335               0                0             17                 0   \n",
              "1336               1                0             17                 0   \n",
              "\n",
              "      listed_count  lang_code  \n",
              "0               52          5  \n",
              "1               16          1  \n",
              "2                1          5  \n",
              "3                5          1  \n",
              "4               40          1  \n",
              "...            ...        ...  \n",
              "1332             0          1  \n",
              "1333             0          1  \n",
              "1334             0          1  \n",
              "1335             0          1  \n",
              "1336             0          1  \n",
              "\n",
              "[2818 rows x 6 columns]"
            ]
          },
          "metadata": {
            "tags": []
          },
          "execution_count": 13
        }
      ]
    },
    {
      "cell_type": "code",
      "metadata": {
        "id": "athletic-acrylic"
      },
      "source": [
        "X_train,X_test,y_train,y_test = train_test_split(x, y, test_size=0.20, random_state=44)"
      ],
      "id": "athletic-acrylic",
      "execution_count": null,
      "outputs": []
    },
    {
      "cell_type": "markdown",
      "metadata": {
        "id": "creative-firewall"
      },
      "source": [
        "## SVM"
      ],
      "id": "creative-firewall"
    },
    {
      "cell_type": "code",
      "metadata": {
        "id": "noble-glucose"
      },
      "source": [
        "from sklearn.preprocessing import MinMaxScaler"
      ],
      "id": "noble-glucose",
      "execution_count": null,
      "outputs": []
    },
    {
      "cell_type": "code",
      "metadata": {
        "id": "appropriate-survival"
      },
      "source": [
        "mm=MinMaxScaler()\n",
        "x_train=mm.fit_transform(X_train)\n",
        "x_test=mm.transform(X_test)"
      ],
      "id": "appropriate-survival",
      "execution_count": null,
      "outputs": []
    },
    {
      "cell_type": "code",
      "metadata": {
        "id": "placed-hydrogen",
        "outputId": "8a1e74d3-bd86-4c1d-a904-fbc038a242aa"
      },
      "source": [
        "model=SVC()\n",
        "model.fit(x_train,y_train)"
      ],
      "id": "placed-hydrogen",
      "execution_count": null,
      "outputs": [
        {
          "output_type": "execute_result",
          "data": {
            "text/plain": [
              "SVC()"
            ]
          },
          "metadata": {
            "tags": []
          },
          "execution_count": 17
        }
      ]
    },
    {
      "cell_type": "code",
      "metadata": {
        "id": "digital-judgment"
      },
      "source": [
        "y_pred=model.predict(x_test)"
      ],
      "id": "digital-judgment",
      "execution_count": null,
      "outputs": []
    },
    {
      "cell_type": "code",
      "metadata": {
        "id": "ignored-quantum",
        "outputId": "56da18dc-425a-4fc6-975b-ce8d9d8d7062"
      },
      "source": [
        "type(y_pred)"
      ],
      "id": "ignored-quantum",
      "execution_count": null,
      "outputs": [
        {
          "output_type": "execute_result",
          "data": {
            "text/plain": [
              "numpy.ndarray"
            ]
          },
          "metadata": {
            "tags": []
          },
          "execution_count": 19
        }
      ]
    },
    {
      "cell_type": "code",
      "metadata": {
        "id": "monthly-visit",
        "outputId": "caca0dec-591d-4dfe-8e4a-e3180259c924"
      },
      "source": [
        "accuracy_score(y_test, y_pred)"
      ],
      "id": "monthly-visit",
      "execution_count": null,
      "outputs": [
        {
          "output_type": "execute_result",
          "data": {
            "text/plain": [
              "0.9698581560283688"
            ]
          },
          "metadata": {
            "tags": []
          },
          "execution_count": 20
        }
      ]
    },
    {
      "cell_type": "code",
      "metadata": {
        "id": "reserved-painting",
        "outputId": "5741e266-f3a7-4db5-8d54-8919c7552125"
      },
      "source": [
        "confusion_matrix = confusion_matrix(y_test, y_pred)\n",
        "print(confusion_matrix)"
      ],
      "id": "reserved-painting",
      "execution_count": null,
      "outputs": [
        {
          "output_type": "stream",
          "text": [
            "[[267   0]\n",
            " [ 17 280]]\n"
          ],
          "name": "stdout"
        }
      ]
    },
    {
      "cell_type": "code",
      "metadata": {
        "id": "supposed-laptop",
        "outputId": "e80e8d0d-1ec7-4659-9003-fe9a6374bcd2"
      },
      "source": [
        "print(classification_report(y_test, y_pred, target_names=['Fake','Genuine']))"
      ],
      "id": "supposed-laptop",
      "execution_count": null,
      "outputs": [
        {
          "output_type": "stream",
          "text": [
            "              precision    recall  f1-score   support\n",
            "\n",
            "        Fake       0.94      1.00      0.97       267\n",
            "     Genuine       1.00      0.94      0.97       297\n",
            "\n",
            "    accuracy                           0.97       564\n",
            "   macro avg       0.97      0.97      0.97       564\n",
            "weighted avg       0.97      0.97      0.97       564\n",
            "\n"
          ],
          "name": "stdout"
        }
      ]
    },
    {
      "cell_type": "markdown",
      "metadata": {
        "id": "persistent-seating"
      },
      "source": [
        "## LR"
      ],
      "id": "persistent-seating"
    },
    {
      "cell_type": "code",
      "metadata": {
        "id": "mathematical-gardening"
      },
      "source": [
        "model=LogisticRegression(max_iter=1000)"
      ],
      "id": "mathematical-gardening",
      "execution_count": null,
      "outputs": []
    },
    {
      "cell_type": "code",
      "metadata": {
        "id": "forty-veteran",
        "outputId": "8b039d4f-ae43-4eda-a9db-ff3c41249091"
      },
      "source": [
        "model.fit(X_train, y_train)"
      ],
      "id": "forty-veteran",
      "execution_count": null,
      "outputs": [
        {
          "output_type": "execute_result",
          "data": {
            "text/plain": [
              "LogisticRegression(max_iter=1000)"
            ]
          },
          "metadata": {
            "tags": []
          },
          "execution_count": 24
        }
      ]
    },
    {
      "cell_type": "code",
      "metadata": {
        "id": "marine-inflation"
      },
      "source": [
        "prediction=model.predict(X_test)"
      ],
      "id": "marine-inflation",
      "execution_count": null,
      "outputs": []
    },
    {
      "cell_type": "code",
      "metadata": {
        "id": "standing-interim",
        "outputId": "c41d9233-d4c1-492f-d52f-1abff32130dc"
      },
      "source": [
        "accuracy_score(y_test, prediction)"
      ],
      "id": "standing-interim",
      "execution_count": null,
      "outputs": [
        {
          "output_type": "execute_result",
          "data": {
            "text/plain": [
              "0.9946808510638298"
            ]
          },
          "metadata": {
            "tags": []
          },
          "execution_count": 26
        }
      ]
    },
    {
      "cell_type": "code",
      "metadata": {
        "id": "straight-terminal",
        "outputId": "20cfcc93-4b60-4b73-b797-ee3a78f20106"
      },
      "source": [
        "from sklearn.metrics import classification_report, confusion_matrix\n",
        "print(confusion_matrix(y_test,prediction))"
      ],
      "id": "straight-terminal",
      "execution_count": null,
      "outputs": [
        {
          "output_type": "stream",
          "text": [
            "[[267   0]\n",
            " [  3 294]]\n"
          ],
          "name": "stdout"
        }
      ]
    },
    {
      "cell_type": "code",
      "metadata": {
        "id": "stuck-employment",
        "outputId": "947d5c72-344d-4c3a-f373-aaad5ac9bf17"
      },
      "source": [
        "print(classification_report(y_test, prediction, target_names=['Fake','Genuine']))"
      ],
      "id": "stuck-employment",
      "execution_count": null,
      "outputs": [
        {
          "output_type": "stream",
          "text": [
            "              precision    recall  f1-score   support\n",
            "\n",
            "        Fake       0.99      1.00      0.99       267\n",
            "     Genuine       1.00      0.99      0.99       297\n",
            "\n",
            "    accuracy                           0.99       564\n",
            "   macro avg       0.99      0.99      0.99       564\n",
            "weighted avg       0.99      0.99      0.99       564\n",
            "\n"
          ],
          "name": "stdout"
        }
      ]
    },
    {
      "cell_type": "code",
      "metadata": {
        "id": "centered-statement"
      },
      "source": [
        ""
      ],
      "id": "centered-statement",
      "execution_count": null,
      "outputs": []
    }
  ]
}
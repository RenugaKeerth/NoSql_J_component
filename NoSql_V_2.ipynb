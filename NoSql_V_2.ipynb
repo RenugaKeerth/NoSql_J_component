{
  "nbformat": 4,
  "nbformat_minor": 0,
  "metadata": {
    "colab": {
      "name": "NoSql_V_2.ipynb",
      "provenance": [],
      "collapsed_sections": []
    },
    "kernelspec": {
      "display_name": "Python 3",
      "name": "python3"
    },
    "language_info": {
      "name": "python"
    }
  },
  "cells": [
    {
      "cell_type": "code",
      "metadata": {
        "id": "wiA321hvTn4j"
      },
      "source": [
        "import pandas as pd\n",
        "import tweepy\n",
        "import time\n",
        "import numpy as np\n",
        "import matplotlib.pyplot as plt\n",
        "from tweepy import Stream\n",
        "from tweepy.streaming import StreamListener\n",
        "import numpy as np\n",
        "import matplotlib.pyplot as plt\n",
        "from sklearn import svm\n",
        "from sklearn.model_selection import train_test_split\n",
        "from sklearn.metrics import confusion_matrix\n",
        "from sklearn.utils.multiclass import unique_labels"
      ],
      "execution_count": 25,
      "outputs": []
    },
    {
      "cell_type": "code",
      "metadata": {
        "id": "jeo7ercBTwD2"
      },
      "source": [
        "consumer_key  = 'd9Ksoz6Wb1jD0mqbW8rjaSNb7'\n",
        "consumer_secret = 'pHXnVSJeLbOxaYlbOR7BWFdDNhZSF6IzegZV87qUSUqy6Qe8qG'\n",
        "access_token = '3648603434-dGRu1nHet22tdoYeqaAGoN8MyZrNw9oXZQvGZUD'\n",
        "access_token_secret = 'PZ8pcQBCb5zVPLRQNVQZc3Yzi0rz1wPef6O7RO7gzcvOf'\n",
        "auth = tweepy.OAuthHandler(consumer_key, consumer_secret)\n",
        "auth.set_access_token(access_token, access_token_secret)\n",
        "api = tweepy.API(auth, wait_on_rate_limit=True)"
      ],
      "execution_count": 26,
      "outputs": []
    },
    {
      "cell_type": "code",
      "metadata": {
        "colab": {
          "base_uri": "https://localhost:8080/"
        },
        "id": "n1mQ8sGeT1R6",
        "outputId": "0e8fbc40-6e06-4af5-9006-8cf68f72fe2a"
      },
      "source": [
        "api"
      ],
      "execution_count": 27,
      "outputs": [
        {
          "output_type": "execute_result",
          "data": {
            "text/plain": [
              "<tweepy.api.API at 0x7f7994bf6890>"
            ]
          },
          "metadata": {
            "tags": []
          },
          "execution_count": 27
        }
      ]
    },
    {
      "cell_type": "code",
      "metadata": {
        "colab": {
          "base_uri": "https://localhost:8080/"
        },
        "id": "Q6B_qYswUXd5",
        "outputId": "ce2e4646-74c1-43e6-d81a-0734e04b2a27"
      },
      "source": [
        "ls"
      ],
      "execution_count": 28,
      "outputs": [
        {
          "output_type": "stream",
          "text": [
            "Fri_1.txt  friend20.csv  spam12.txt\n"
          ],
          "name": "stdout"
        }
      ]
    },
    {
      "cell_type": "code",
      "metadata": {
        "colab": {
          "base_uri": "https://localhost:8080/"
        },
        "id": "aM8X9kPQUY1I",
        "outputId": "ef15dc74-685e-4085-df69-80d11de8659e"
      },
      "source": [
        "from google.colab import drive\n",
        "drive.mount('/content/drive')"
      ],
      "execution_count": 29,
      "outputs": [
        {
          "output_type": "stream",
          "text": [
            "Drive already mounted at /content/drive; to attempt to forcibly remount, call drive.mount(\"/content/drive\", force_remount=True).\n"
          ],
          "name": "stdout"
        }
      ]
    },
    {
      "cell_type": "code",
      "metadata": {
        "colab": {
          "base_uri": "https://localhost:8080/"
        },
        "id": "ZgJ1HISeUrMr",
        "outputId": "3f2b44c3-cf4a-45bf-8331-3abfb1c9a9da"
      },
      "source": [
        "cd drive/MyDrive/"
      ],
      "execution_count": 30,
      "outputs": [
        {
          "output_type": "stream",
          "text": [
            "[Errno 2] No such file or directory: 'drive/MyDrive/'\n",
            "/content/drive/MyDrive/NoSqlJ\n"
          ],
          "name": "stdout"
        }
      ]
    },
    {
      "cell_type": "code",
      "metadata": {
        "id": "H9feFmeLUw0p"
      },
      "source": [
        "mkdir NoSqlJ"
      ],
      "execution_count": 31,
      "outputs": []
    },
    {
      "cell_type": "code",
      "metadata": {
        "colab": {
          "base_uri": "https://localhost:8080/"
        },
        "id": "TuEuFbZGUw4M",
        "outputId": "e3842c5e-765b-4917-fece-5b36afe103cb"
      },
      "source": [
        "cd NoSqlJ/"
      ],
      "execution_count": 32,
      "outputs": [
        {
          "output_type": "stream",
          "text": [
            "/content/drive/My Drive/NoSqlJ/NoSqlJ\n"
          ],
          "name": "stdout"
        }
      ]
    },
    {
      "cell_type": "code",
      "metadata": {
        "colab": {
          "base_uri": "https://localhost:8080/"
        },
        "id": "LQkuzLZtUw9K",
        "outputId": "f38722dd-6dc6-49c6-ac7d-3a57d3d3b0fe"
      },
      "source": [
        "cat > Fri_1.txt"
      ],
      "execution_count": 34,
      "outputs": [
        {
          "output_type": "stream",
          "text": [
            "^C\n"
          ],
          "name": "stdout"
        }
      ]
    },
    {
      "cell_type": "code",
      "metadata": {
        "colab": {
          "base_uri": "https://localhost:8080/"
        },
        "id": "gdkpWAaJVPG6",
        "outputId": "3fa9a75c-7a57-43f3-f1b4-cd5329f98074"
      },
      "source": [
        "ls"
      ],
      "execution_count": 35,
      "outputs": [
        {
          "output_type": "stream",
          "text": [
            "Fri_1.txt\n"
          ],
          "name": "stdout"
        }
      ]
    },
    {
      "cell_type": "code",
      "metadata": {
        "colab": {
          "base_uri": "https://localhost:8080/"
        },
        "id": "OXHEjVsET3-n",
        "outputId": "2f13bb59-700b-49bc-961f-aaf0f134f25c"
      },
      "source": [
        "# printing all the friends names of the user \n",
        "print('Name of the Friends of user')\n",
        "friends = []\n",
        "for friend in tweepy.Cursor(api.friends, screen_name = 'Rajinikanth').items(30):\n",
        "    try:\n",
        "                friends.append(friend.screen_name)\n",
        "                print(friend.screen_name)\n",
        "                time.sleep()\n",
        "    except Exception as e:\n",
        "                pass\n",
        "with open(\"Fri_1.txt\", \"w\") as f:\n",
        "     for item in friends:\n",
        "        f.write(\"%s\\n\" % item)"
      ],
      "execution_count": 38,
      "outputs": [
        {
          "output_type": "stream",
          "text": [
            "Name of the Friends of user\n",
            "anirudhofficial\n",
            "arrahman\n",
            "dhanushkraja\n",
            "soundaryaarajni\n",
            "ash_r_dhanush\n",
            "SrBachchan\n",
            "PMOIndia\n",
            "narendramodi\n",
            "firstpost\n",
            "bsindia\n",
            "airnewsalerts\n",
            "EconomicTimes\n",
            "ABPNews\n",
            "BBCHindi\n",
            "aajtak\n",
            "ZeeNewsEnglish\n",
            "TimesNow\n",
            "htTweets\n",
            "IndiaToday\n",
            "IndianExpress\n",
            "ndtv\n",
            "the_hindu\n",
            "timesofindia\n",
            "CNNnews18\n"
          ],
          "name": "stdout"
        }
      ]
    },
    {
      "cell_type": "code",
      "metadata": {
        "colab": {
          "base_uri": "https://localhost:8080/"
        },
        "id": "ARd9-cejVSx5",
        "outputId": "dd4b07d1-9c11-4c97-e110-427e193ce91c"
      },
      "source": [
        "Total_Data = []\n",
        "fo = open(\"Fri_1.txt\", \"r\")\n",
        "f = fo.readlines()\n",
        "fo.close()\n",
        "dataset = map(lambda s: s.strip(),f)\n",
        "try:\n",
        "    for datavar in dataset:\n",
        "        data = api.get_user(datavar)\n",
        "        counter = 0\n",
        "        for status in tweepy.Cursor(api.user_timeline, id = datavar).items(30):\n",
        "            try:\n",
        "                counter= counter+1\n",
        "                Total_Data.append(status)\n",
        "                time.sleep()\n",
        "            except Exception as e:\n",
        "                pass\n",
        "except Exception as e:\n",
        "    pass\n",
        "print(len(Total_Data))"
      ],
      "execution_count": 39,
      "outputs": [
        {
          "output_type": "stream",
          "text": [
            "720\n"
          ],
          "name": "stdout"
        }
      ]
    },
    {
      "cell_type": "code",
      "metadata": {
        "colab": {
          "base_uri": "https://localhost:8080/"
        },
        "id": "2FOSWrxXWItM",
        "outputId": "e197f384-5d17-4bb3-ef59-72aa5f5e5b91"
      },
      "source": [
        "import urllib.parse\n",
        "import pandas as pd\n",
        "\n",
        "def process_http(string):\n",
        "    url_count = 0\n",
        "    for i in string.split():\n",
        "        s, n, p, pa, q, f = urllib.parse.urlparse(i)\n",
        "        if s and n:\n",
        "            url_count += 1\n",
        "    return url_count\n",
        "\n",
        "def process_hashtag(string):\n",
        "    hashtag_count = 0\n",
        "    for i in string.split():\n",
        "        s, n, p, pa, q, f = urllib.parse.urlparse(i)\n",
        "        if i[:1] == '#':\n",
        "            hashtag_count += 1\n",
        "    return hashtag_count\n",
        "\n",
        "def process_mention(string):\n",
        "    mention_count=0\n",
        "    for i in string.split():\n",
        "        s, n, p, pa, q, f = urllib.parse.urlparse(i)\n",
        "        if i[:1] == '@':\n",
        "            mention_count += 1\n",
        "    return mention_count\n",
        "def process_data(Total_Data):\n",
        "    TwittID = [tweet.id for tweet in Total_Data]\n",
        "    # Making the dataset in pandas frame\n",
        "    Data = pd.DataFrame(TwittID, columns = ['TwittID'])\n",
        "    # processing the data in Tweet level\n",
        "    \n",
        "    Data[\"TextData\"] = [tweet.text for tweet in Total_Data]\n",
        "    Data[\"TweetCreatedAt\"] = [tweet.created_at for tweet in Total_Data]\n",
        "    Data[\"RetweetCount\"] = [tweet.retweet_count for tweet in Total_Data]\n",
        "    Data[\"TweetFavouriteCount\"] = [tweet.favorite_count for tweet in Total_Data]\n",
        "    Data[\"TweetSource\"] = [tweet.source for tweet in Total_Data]\n",
        "    \n",
        "    # processing the data in User Graph level\n",
        "    \n",
        "    Data[\"UserID\"] = [tweet.author.id for tweet in Total_Data]\n",
        "    Data[\"UserScreenName\"] = [tweet.author.screen_name for tweet in Total_Data]\n",
        "    Data[\"UserName\"] = [tweet.author.name for tweet in Total_Data]\n",
        "    Data[\"UserCreatedAt\"] = [tweet.author.created_at for tweet in Total_Data]\n",
        "    Data[\"UserDescription\"] = [tweet.author.description for tweet in Total_Data]\n",
        "    Data[\"UserDescriptionLength\"] = [len(tweet.author.description) for tweet in Total_Data]\n",
        "    Data[\"UserFollowersCount\"] = [tweet.author.followers_count for tweet in Total_Data]\n",
        "    Data[\"UserFriendsCount\"] = [tweet.author.friends_count for tweet in Total_Data]\n",
        "    Data[\"UserLocation\"] = [tweet.author.location for tweet in Total_Data]\n",
        "    \n",
        "    # Data[\"url\"] = [tweet.author.url for in Total_Data]\n",
        "    # Data[\"User_mention\"] = [user_mentions.author.screen_name for tweet in Total_Data]\n",
        "    # Data[\"HashTag\"] = [hashtag.text for tweet in Total_Data]\n",
        "    \n",
        "    Data[\"HttpCount\"] = [process_http(tweet.text) for tweet in Total_Data]\n",
        "    Data[\"HashtagCount\"] = [process_hashtag(tweet.text) for tweet in Total_Data]\n",
        "    Data[\"MentionCount\"] = [process_mention(tweet.text) for tweet in Total_Data]\n",
        "    Data[\"TweetCount\"] = [tweet.author.statuses_count for tweet in Total_Data]\n",
        "    return Data\n",
        "Data = process_data(Total_Data)\n",
        "Data.shape"
      ],
      "execution_count": 40,
      "outputs": [
        {
          "output_type": "execute_result",
          "data": {
            "text/plain": [
              "(720, 19)"
            ]
          },
          "metadata": {
            "tags": []
          },
          "execution_count": 40
        }
      ]
    },
    {
      "cell_type": "code",
      "metadata": {
        "colab": {
          "base_uri": "https://localhost:8080/",
          "height": 479
        },
        "id": "fYdW7ebUWhGM",
        "outputId": "d1256b73-5653-4362-930d-718204582b40"
      },
      "source": [
        "Data.head()"
      ],
      "execution_count": 41,
      "outputs": [
        {
          "output_type": "execute_result",
          "data": {
            "text/html": [
              "<div>\n",
              "<style scoped>\n",
              "    .dataframe tbody tr th:only-of-type {\n",
              "        vertical-align: middle;\n",
              "    }\n",
              "\n",
              "    .dataframe tbody tr th {\n",
              "        vertical-align: top;\n",
              "    }\n",
              "\n",
              "    .dataframe thead th {\n",
              "        text-align: right;\n",
              "    }\n",
              "</style>\n",
              "<table border=\"1\" class=\"dataframe\">\n",
              "  <thead>\n",
              "    <tr style=\"text-align: right;\">\n",
              "      <th></th>\n",
              "      <th>TwittID</th>\n",
              "      <th>TextData</th>\n",
              "      <th>TweetCreatedAt</th>\n",
              "      <th>RetweetCount</th>\n",
              "      <th>TweetFavouriteCount</th>\n",
              "      <th>TweetSource</th>\n",
              "      <th>UserID</th>\n",
              "      <th>UserScreenName</th>\n",
              "      <th>UserName</th>\n",
              "      <th>UserCreatedAt</th>\n",
              "      <th>UserDescription</th>\n",
              "      <th>UserDescriptionLength</th>\n",
              "      <th>UserFollowersCount</th>\n",
              "      <th>UserFriendsCount</th>\n",
              "      <th>UserLocation</th>\n",
              "      <th>HttpCount</th>\n",
              "      <th>HashtagCount</th>\n",
              "      <th>MentionCount</th>\n",
              "      <th>TweetCount</th>\n",
              "    </tr>\n",
              "  </thead>\n",
              "  <tbody>\n",
              "    <tr>\n",
              "      <th>0</th>\n",
              "      <td>1399625976800153600</td>\n",
              "      <td>RT @karthiksubbaraj: Here's #JagameThandhiramT...</td>\n",
              "      <td>2021-06-01 07:16:51</td>\n",
              "      <td>3227</td>\n",
              "      <td>0</td>\n",
              "      <td>Twitter for iPhone</td>\n",
              "      <td>216447259</td>\n",
              "      <td>anirudhofficial</td>\n",
              "      <td>Anirudh Ravichander</td>\n",
              "      <td>2010-11-16 19:13:06</td>\n",
              "      <td>Music Composer/Singer in the Indian Film Industry</td>\n",
              "      <td>49</td>\n",
              "      <td>8138319</td>\n",
              "      <td>207</td>\n",
              "      <td>Chennai</td>\n",
              "      <td>1</td>\n",
              "      <td>2</td>\n",
              "      <td>4</td>\n",
              "      <td>12891</td>\n",
              "    </tr>\n",
              "    <tr>\n",
              "      <th>1</th>\n",
              "      <td>1399625927089217536</td>\n",
              "      <td>RT @dhanushkraja: What would have been a great...</td>\n",
              "      <td>2021-06-01 07:16:39</td>\n",
              "      <td>7527</td>\n",
              "      <td>0</td>\n",
              "      <td>Twitter for iPhone</td>\n",
              "      <td>216447259</td>\n",
              "      <td>anirudhofficial</td>\n",
              "      <td>Anirudh Ravichander</td>\n",
              "      <td>2010-11-16 19:13:06</td>\n",
              "      <td>Music Composer/Singer in the Indian Film Industry</td>\n",
              "      <td>49</td>\n",
              "      <td>8138319</td>\n",
              "      <td>207</td>\n",
              "      <td>Chennai</td>\n",
              "      <td>0</td>\n",
              "      <td>0</td>\n",
              "      <td>1</td>\n",
              "      <td>12891</td>\n",
              "    </tr>\n",
              "    <tr>\n",
              "      <th>2</th>\n",
              "      <td>1395367947552522241</td>\n",
              "      <td>This track and it’s video are 🔥 \\nAwesome work...</td>\n",
              "      <td>2021-05-20 13:16:58</td>\n",
              "      <td>302</td>\n",
              "      <td>3645</td>\n",
              "      <td>Twitter for iPhone</td>\n",
              "      <td>216447259</td>\n",
              "      <td>anirudhofficial</td>\n",
              "      <td>Anirudh Ravichander</td>\n",
              "      <td>2010-11-16 19:13:06</td>\n",
              "      <td>Music Composer/Singer in the Indian Film Industry</td>\n",
              "      <td>49</td>\n",
              "      <td>8138319</td>\n",
              "      <td>207</td>\n",
              "      <td>Chennai</td>\n",
              "      <td>1</td>\n",
              "      <td>1</td>\n",
              "      <td>3</td>\n",
              "      <td>12891</td>\n",
              "    </tr>\n",
              "    <tr>\n",
              "      <th>3</th>\n",
              "      <td>1395030557092769794</td>\n",
              "      <td>#URGENT 🆘\\nEmergency need of 72 vials of #Amph...</td>\n",
              "      <td>2021-05-19 14:56:17</td>\n",
              "      <td>925</td>\n",
              "      <td>2715</td>\n",
              "      <td>Twitter for iPhone</td>\n",
              "      <td>216447259</td>\n",
              "      <td>anirudhofficial</td>\n",
              "      <td>Anirudh Ravichander</td>\n",
              "      <td>2010-11-16 19:13:06</td>\n",
              "      <td>Music Composer/Singer in the Indian Film Industry</td>\n",
              "      <td>49</td>\n",
              "      <td>8138319</td>\n",
              "      <td>207</td>\n",
              "      <td>Chennai</td>\n",
              "      <td>1</td>\n",
              "      <td>2</td>\n",
              "      <td>0</td>\n",
              "      <td>12891</td>\n",
              "    </tr>\n",
              "    <tr>\n",
              "      <th>4</th>\n",
              "      <td>1392771872056479748</td>\n",
              "      <td>RT @soundaryaarajni: Our Thalaivar gets his va...</td>\n",
              "      <td>2021-05-13 09:21:05</td>\n",
              "      <td>4565</td>\n",
              "      <td>0</td>\n",
              "      <td>Twitter for iPhone</td>\n",
              "      <td>216447259</td>\n",
              "      <td>anirudhofficial</td>\n",
              "      <td>Anirudh Ravichander</td>\n",
              "      <td>2010-11-16 19:13:06</td>\n",
              "      <td>Music Composer/Singer in the Indian Film Industry</td>\n",
              "      <td>49</td>\n",
              "      <td>8138319</td>\n",
              "      <td>207</td>\n",
              "      <td>Chennai</td>\n",
              "      <td>0</td>\n",
              "      <td>2</td>\n",
              "      <td>1</td>\n",
              "      <td>12891</td>\n",
              "    </tr>\n",
              "  </tbody>\n",
              "</table>\n",
              "</div>"
            ],
            "text/plain": [
              "               TwittID  ... TweetCount\n",
              "0  1399625976800153600  ...      12891\n",
              "1  1399625927089217536  ...      12891\n",
              "2  1395367947552522241  ...      12891\n",
              "3  1395030557092769794  ...      12891\n",
              "4  1392771872056479748  ...      12891\n",
              "\n",
              "[5 rows x 19 columns]"
            ]
          },
          "metadata": {
            "tags": []
          },
          "execution_count": 41
        }
      ]
    },
    {
      "cell_type": "code",
      "metadata": {
        "id": "lly8b5QpWkwy"
      },
      "source": [
        "import sys\n",
        "# Saving data with item space separating\n",
        "Data.to_csv('RajiniFriends.csv', sep=',' , encoding='utf8')"
      ],
      "execution_count": 42,
      "outputs": []
    },
    {
      "cell_type": "markdown",
      "metadata": {
        "id": "3-ui0zj0jOXN"
      },
      "source": [
        "## Spam Data Generate"
      ]
    },
    {
      "cell_type": "code",
      "metadata": {
        "colab": {
          "base_uri": "https://localhost:8080/"
        },
        "id": "8Em0C-bkW3jw",
        "outputId": "8c43a601-03f7-42eb-8d97-e9a0ce36c39d"
      },
      "source": [
        "friends = []\n",
        "class listener(StreamListener):\n",
        "    def on_data(self, data):\n",
        "        try:\n",
        "            tweet = data.split(',\"screen_name\":\"')[1].split('\",\"location')[0]\n",
        "            print(tweet)\n",
        "            friends.append(tweet)\n",
        "            return True\n",
        "        except BaseException as e:\n",
        "            print('failed on data' + str(e))\n",
        "            time.sleep(5)\n",
        "    def on_error(self, status):\n",
        "        print(status)\n",
        "\n",
        "twitterStream = Stream(auth, listener())\n",
        "try:\n",
        "    for x in range(1,10):\n",
        "        twitterStream.filter(track=[\"cougar\"])\n",
        "except KeyboardInterrupt:\n",
        "    print(\"Key board interuption\")\n",
        "with open(\"SpamData.txt\", \"w\") as f:\n",
        "     for item in friends:\n",
        "        f.write(\"%s\\n\" % item)"
      ],
      "execution_count": 48,
      "outputs": [
        {
          "output_type": "stream",
          "text": [
            "g_mjo1\n",
            "kannibal31\n",
            "naughtysussex\n",
            "YouAssTube\n",
            "coolpornoo\n",
            "raaaayvenn\n",
            "PhenomPro1\n",
            "Key board interuption\n"
          ],
          "name": "stdout"
        }
      ]
    },
    {
      "cell_type": "code",
      "metadata": {
        "id": "oCImhjvvW6xO",
        "colab": {
          "base_uri": "https://localhost:8080/"
        },
        "outputId": "72c66087-6609-44ea-c5af-82c3fbaaa6b3"
      },
      "source": [
        "Total_Data = []\n",
        "fo = open(\"SpamData.txt\", \"r\")\n",
        "f = fo.readlines()\n",
        "fo.close()\n",
        "dataset = map(lambda s: s.strip(),f)\n",
        "try:\n",
        "    for datavar in dataset:\n",
        "        data = api.get_user(datavar)\n",
        "        counter = 0\n",
        "        for status in tweepy.Cursor(api.user_timeline, id = datavar).items(30):\n",
        "            try:\n",
        "                counter= counter+1\n",
        "                Total_Data.append(status)\n",
        "                time.sleep()\n",
        "            except Exception as e:\n",
        "                pass\n",
        "except Exception as e:\n",
        "    pass\n",
        "print(len(Total_Data))"
      ],
      "execution_count": 49,
      "outputs": [
        {
          "output_type": "stream",
          "text": [
            "210\n"
          ],
          "name": "stdout"
        }
      ]
    },
    {
      "cell_type": "code",
      "metadata": {
        "colab": {
          "base_uri": "https://localhost:8080/"
        },
        "id": "2cns3CDflbmN",
        "outputId": "812afd62-4660-4288-8369-d61eb4951c42"
      },
      "source": [
        "import urllib.parse\n",
        "import pandas as pd\n",
        "\n",
        "def process_http(string):\n",
        "    url_count = 0\n",
        "    for i in string.split():\n",
        "        s, n, p, pa, q, f = urllib.parse.urlparse(i)\n",
        "        if s and n:\n",
        "            url_count += 1\n",
        "    return url_count\n",
        "\n",
        "def process_hashtag(string):\n",
        "    hashtag_count = 0\n",
        "    for i in string.split():\n",
        "        s, n, p, pa, q, f = urllib.parse.urlparse(i)\n",
        "        if i[:1] == '#':\n",
        "            hashtag_count += 1\n",
        "    return hashtag_count\n",
        "\n",
        "def process_mention(string):\n",
        "    mention_count=0\n",
        "    for i in string.split():\n",
        "        s, n, p, pa, q, f = urllib.parse.urlparse(i)\n",
        "        if i[:1] == '@':\n",
        "            mention_count += 1\n",
        "    return mention_count\n",
        "def process_data(Total_Data):\n",
        "    TwittID = [tweet.id for tweet in Total_Data]\n",
        "    # Making the dataset in pandas frame\n",
        "    Data = pd.DataFrame(TwittID, columns = ['TwittID'])\n",
        "    # processing the data in Tweet level\n",
        "    \n",
        "    Data[\"TextData\"] = [tweet.text for tweet in Total_Data]\n",
        "    Data[\"TweetCreatedAt\"] = [tweet.created_at for tweet in Total_Data]\n",
        "    Data[\"RetweetCount\"] = [tweet.retweet_count for tweet in Total_Data]\n",
        "    Data[\"TweetFavouriteCount\"] = [tweet.favorite_count for tweet in Total_Data]\n",
        "    Data[\"TweetSource\"] = [tweet.source for tweet in Total_Data]\n",
        "    \n",
        "    # processing the data in User Graph level\n",
        "    \n",
        "    Data[\"UserID\"] = [tweet.author.id for tweet in Total_Data]\n",
        "    Data[\"UserScreenName\"] = [tweet.author.screen_name for tweet in Total_Data]\n",
        "    Data[\"UserName\"] = [tweet.author.name for tweet in Total_Data]\n",
        "    Data[\"UserCreatedAt\"] = [tweet.author.created_at for tweet in Total_Data]\n",
        "    Data[\"UserDescription\"] = [tweet.author.description for tweet in Total_Data]\n",
        "    Data[\"UserDescriptionLength\"] = [len(tweet.author.description) for tweet in Total_Data]\n",
        "    Data[\"UserFollowersCount\"] = [tweet.author.followers_count for tweet in Total_Data]\n",
        "    Data[\"UserFriendsCount\"] = [tweet.author.friends_count for tweet in Total_Data]\n",
        "    Data[\"UserLocation\"] = [tweet.author.location for tweet in Total_Data]\n",
        "    \n",
        "    # Data[\"url\"] = [tweet.author.url for in Total_Data]\n",
        "    # Data[\"User_mention\"] = [user_mentions.author.screen_name for tweet in Total_Data]\n",
        "    # Data[\"HashTag\"] = [hashtag.text for tweet in Total_Data]\n",
        "    \n",
        "    Data[\"HttpCount\"] = [process_http(tweet.text) for tweet in Total_Data]\n",
        "    Data[\"HashtagCount\"] = [process_hashtag(tweet.text) for tweet in Total_Data]\n",
        "    Data[\"MentionCount\"] = [process_mention(tweet.text) for tweet in Total_Data]\n",
        "    Data[\"TweetCount\"] = [tweet.author.statuses_count for tweet in Total_Data]\n",
        "    return Data\n",
        "Data = process_data(Total_Data)\n",
        "Data.shape"
      ],
      "execution_count": 50,
      "outputs": [
        {
          "output_type": "execute_result",
          "data": {
            "text/plain": [
              "(210, 19)"
            ]
          },
          "metadata": {
            "tags": []
          },
          "execution_count": 50
        }
      ]
    },
    {
      "cell_type": "code",
      "metadata": {
        "id": "bv7J7BMYpQPA"
      },
      "source": [
        "# Saving data with item space separating\n",
        "Data.to_csv('SpamData.csv', sep=',' , encoding='utf8')"
      ],
      "execution_count": 51,
      "outputs": []
    },
    {
      "cell_type": "markdown",
      "metadata": {
        "id": "c2jRSkVeqHSE"
      },
      "source": [
        "## Spam And Genuine Data Merge"
      ]
    },
    {
      "cell_type": "code",
      "metadata": {
        "colab": {
          "base_uri": "https://localhost:8080/"
        },
        "id": "zfX_iP4yqLZ_",
        "outputId": "84e56c27-f771-4276-a55d-7bc7b76f0d9d"
      },
      "source": [
        "import pandas as pd\n",
        "Total_leg_data = pd.read_csv('RajiniFriends.csv')\n",
        "Total_leg_data.fillna(0, inplace=True)\n",
        "Total_leg_data.drop('Unnamed: 0',axis=1,inplace=True)\n",
        "Total_leg_data.shape"
      ],
      "execution_count": 115,
      "outputs": [
        {
          "output_type": "execute_result",
          "data": {
            "text/plain": [
              "(720, 19)"
            ]
          },
          "metadata": {
            "tags": []
          },
          "execution_count": 115
        }
      ]
    },
    {
      "cell_type": "code",
      "metadata": {
        "colab": {
          "base_uri": "https://localhost:8080/",
          "height": 881
        },
        "id": "qkU_58yBqSys",
        "outputId": "f7c7bf51-8f26-401e-b2fe-65195dbbd432"
      },
      "source": [
        "Total_leg_data"
      ],
      "execution_count": 116,
      "outputs": [
        {
          "output_type": "execute_result",
          "data": {
            "text/html": [
              "<div>\n",
              "<style scoped>\n",
              "    .dataframe tbody tr th:only-of-type {\n",
              "        vertical-align: middle;\n",
              "    }\n",
              "\n",
              "    .dataframe tbody tr th {\n",
              "        vertical-align: top;\n",
              "    }\n",
              "\n",
              "    .dataframe thead th {\n",
              "        text-align: right;\n",
              "    }\n",
              "</style>\n",
              "<table border=\"1\" class=\"dataframe\">\n",
              "  <thead>\n",
              "    <tr style=\"text-align: right;\">\n",
              "      <th></th>\n",
              "      <th>TwittID</th>\n",
              "      <th>TextData</th>\n",
              "      <th>TweetCreatedAt</th>\n",
              "      <th>RetweetCount</th>\n",
              "      <th>TweetFavouriteCount</th>\n",
              "      <th>TweetSource</th>\n",
              "      <th>UserID</th>\n",
              "      <th>UserScreenName</th>\n",
              "      <th>UserName</th>\n",
              "      <th>UserCreatedAt</th>\n",
              "      <th>UserDescription</th>\n",
              "      <th>UserDescriptionLength</th>\n",
              "      <th>UserFollowersCount</th>\n",
              "      <th>UserFriendsCount</th>\n",
              "      <th>UserLocation</th>\n",
              "      <th>HttpCount</th>\n",
              "      <th>HashtagCount</th>\n",
              "      <th>MentionCount</th>\n",
              "      <th>TweetCount</th>\n",
              "    </tr>\n",
              "  </thead>\n",
              "  <tbody>\n",
              "    <tr>\n",
              "      <th>0</th>\n",
              "      <td>1399625976800153600</td>\n",
              "      <td>RT @karthiksubbaraj: Here's #JagameThandhiramT...</td>\n",
              "      <td>2021-06-01 07:16:51</td>\n",
              "      <td>3227</td>\n",
              "      <td>0</td>\n",
              "      <td>Twitter for iPhone</td>\n",
              "      <td>216447259</td>\n",
              "      <td>anirudhofficial</td>\n",
              "      <td>Anirudh Ravichander</td>\n",
              "      <td>2010-11-16 19:13:06</td>\n",
              "      <td>Music Composer/Singer in the Indian Film Industry</td>\n",
              "      <td>49</td>\n",
              "      <td>8138319</td>\n",
              "      <td>207</td>\n",
              "      <td>Chennai</td>\n",
              "      <td>1</td>\n",
              "      <td>2</td>\n",
              "      <td>4</td>\n",
              "      <td>12891</td>\n",
              "    </tr>\n",
              "    <tr>\n",
              "      <th>1</th>\n",
              "      <td>1399625927089217536</td>\n",
              "      <td>RT @dhanushkraja: What would have been a great...</td>\n",
              "      <td>2021-06-01 07:16:39</td>\n",
              "      <td>7527</td>\n",
              "      <td>0</td>\n",
              "      <td>Twitter for iPhone</td>\n",
              "      <td>216447259</td>\n",
              "      <td>anirudhofficial</td>\n",
              "      <td>Anirudh Ravichander</td>\n",
              "      <td>2010-11-16 19:13:06</td>\n",
              "      <td>Music Composer/Singer in the Indian Film Industry</td>\n",
              "      <td>49</td>\n",
              "      <td>8138319</td>\n",
              "      <td>207</td>\n",
              "      <td>Chennai</td>\n",
              "      <td>0</td>\n",
              "      <td>0</td>\n",
              "      <td>1</td>\n",
              "      <td>12891</td>\n",
              "    </tr>\n",
              "    <tr>\n",
              "      <th>2</th>\n",
              "      <td>1395367947552522241</td>\n",
              "      <td>This track and it’s video are 🔥 \\nAwesome work...</td>\n",
              "      <td>2021-05-20 13:16:58</td>\n",
              "      <td>302</td>\n",
              "      <td>3645</td>\n",
              "      <td>Twitter for iPhone</td>\n",
              "      <td>216447259</td>\n",
              "      <td>anirudhofficial</td>\n",
              "      <td>Anirudh Ravichander</td>\n",
              "      <td>2010-11-16 19:13:06</td>\n",
              "      <td>Music Composer/Singer in the Indian Film Industry</td>\n",
              "      <td>49</td>\n",
              "      <td>8138319</td>\n",
              "      <td>207</td>\n",
              "      <td>Chennai</td>\n",
              "      <td>1</td>\n",
              "      <td>1</td>\n",
              "      <td>3</td>\n",
              "      <td>12891</td>\n",
              "    </tr>\n",
              "    <tr>\n",
              "      <th>3</th>\n",
              "      <td>1395030557092769794</td>\n",
              "      <td>#URGENT 🆘\\nEmergency need of 72 vials of #Amph...</td>\n",
              "      <td>2021-05-19 14:56:17</td>\n",
              "      <td>925</td>\n",
              "      <td>2715</td>\n",
              "      <td>Twitter for iPhone</td>\n",
              "      <td>216447259</td>\n",
              "      <td>anirudhofficial</td>\n",
              "      <td>Anirudh Ravichander</td>\n",
              "      <td>2010-11-16 19:13:06</td>\n",
              "      <td>Music Composer/Singer in the Indian Film Industry</td>\n",
              "      <td>49</td>\n",
              "      <td>8138319</td>\n",
              "      <td>207</td>\n",
              "      <td>Chennai</td>\n",
              "      <td>1</td>\n",
              "      <td>2</td>\n",
              "      <td>0</td>\n",
              "      <td>12891</td>\n",
              "    </tr>\n",
              "    <tr>\n",
              "      <th>4</th>\n",
              "      <td>1392771872056479748</td>\n",
              "      <td>RT @soundaryaarajni: Our Thalaivar gets his va...</td>\n",
              "      <td>2021-05-13 09:21:05</td>\n",
              "      <td>4565</td>\n",
              "      <td>0</td>\n",
              "      <td>Twitter for iPhone</td>\n",
              "      <td>216447259</td>\n",
              "      <td>anirudhofficial</td>\n",
              "      <td>Anirudh Ravichander</td>\n",
              "      <td>2010-11-16 19:13:06</td>\n",
              "      <td>Music Composer/Singer in the Indian Film Industry</td>\n",
              "      <td>49</td>\n",
              "      <td>8138319</td>\n",
              "      <td>207</td>\n",
              "      <td>Chennai</td>\n",
              "      <td>0</td>\n",
              "      <td>2</td>\n",
              "      <td>1</td>\n",
              "      <td>12891</td>\n",
              "    </tr>\n",
              "    <tr>\n",
              "      <th>...</th>\n",
              "      <td>...</td>\n",
              "      <td>...</td>\n",
              "      <td>...</td>\n",
              "      <td>...</td>\n",
              "      <td>...</td>\n",
              "      <td>...</td>\n",
              "      <td>...</td>\n",
              "      <td>...</td>\n",
              "      <td>...</td>\n",
              "      <td>...</td>\n",
              "      <td>...</td>\n",
              "      <td>...</td>\n",
              "      <td>...</td>\n",
              "      <td>...</td>\n",
              "      <td>...</td>\n",
              "      <td>...</td>\n",
              "      <td>...</td>\n",
              "      <td>...</td>\n",
              "      <td>...</td>\n",
              "    </tr>\n",
              "    <tr>\n",
              "      <th>715</th>\n",
              "      <td>1402144157053853703</td>\n",
              "      <td>RT @news18dotcom: @AmanKayamHai_ In the detail...</td>\n",
              "      <td>2021-06-08 06:03:12</td>\n",
              "      <td>2</td>\n",
              "      <td>0</td>\n",
              "      <td>TweetDeck</td>\n",
              "      <td>6509832</td>\n",
              "      <td>CNNnews18</td>\n",
              "      <td>News18</td>\n",
              "      <td>2007-06-01 20:31:01</td>\n",
              "      <td>Lightning fast alerts, #BreakingNews from Indi...</td>\n",
              "      <td>62</td>\n",
              "      <td>4597047</td>\n",
              "      <td>403</td>\n",
              "      <td>India</td>\n",
              "      <td>0</td>\n",
              "      <td>0</td>\n",
              "      <td>3</td>\n",
              "      <td>881487</td>\n",
              "    </tr>\n",
              "    <tr>\n",
              "      <th>716</th>\n",
              "      <td>1402143957325258753</td>\n",
              "      <td>RT @news18dotcom: @AmanKayamHai_ News18's @Ama...</td>\n",
              "      <td>2021-06-08 06:02:24</td>\n",
              "      <td>3</td>\n",
              "      <td>0</td>\n",
              "      <td>TweetDeck</td>\n",
              "      <td>6509832</td>\n",
              "      <td>CNNnews18</td>\n",
              "      <td>News18</td>\n",
              "      <td>2007-06-01 20:31:01</td>\n",
              "      <td>Lightning fast alerts, #BreakingNews from Indi...</td>\n",
              "      <td>62</td>\n",
              "      <td>4597047</td>\n",
              "      <td>403</td>\n",
              "      <td>India</td>\n",
              "      <td>0</td>\n",
              "      <td>0</td>\n",
              "      <td>3</td>\n",
              "      <td>881487</td>\n",
              "    </tr>\n",
              "    <tr>\n",
              "      <th>717</th>\n",
              "      <td>1402142378102640643</td>\n",
              "      <td>It is learnt that the Centre had planned to am...</td>\n",
              "      <td>2021-06-08 05:56:08</td>\n",
              "      <td>3</td>\n",
              "      <td>11</td>\n",
              "      <td>Twitter Web App</td>\n",
              "      <td>6509832</td>\n",
              "      <td>CNNnews18</td>\n",
              "      <td>News18</td>\n",
              "      <td>2007-06-01 20:31:01</td>\n",
              "      <td>Lightning fast alerts, #BreakingNews from Indi...</td>\n",
              "      <td>62</td>\n",
              "      <td>4597047</td>\n",
              "      <td>403</td>\n",
              "      <td>India</td>\n",
              "      <td>1</td>\n",
              "      <td>0</td>\n",
              "      <td>0</td>\n",
              "      <td>881487</td>\n",
              "    </tr>\n",
              "    <tr>\n",
              "      <th>718</th>\n",
              "      <td>1402140713614299136</td>\n",
              "      <td>It was propagated as Modi vaccine: @RajeevRai,...</td>\n",
              "      <td>2021-06-08 05:49:31</td>\n",
              "      <td>1</td>\n",
              "      <td>7</td>\n",
              "      <td>Grabyo</td>\n",
              "      <td>6509832</td>\n",
              "      <td>CNNnews18</td>\n",
              "      <td>News18</td>\n",
              "      <td>2007-06-01 20:31:01</td>\n",
              "      <td>Lightning fast alerts, #BreakingNews from Indi...</td>\n",
              "      <td>62</td>\n",
              "      <td>4597047</td>\n",
              "      <td>403</td>\n",
              "      <td>India</td>\n",
              "      <td>1</td>\n",
              "      <td>0</td>\n",
              "      <td>1</td>\n",
              "      <td>881487</td>\n",
              "    </tr>\n",
              "    <tr>\n",
              "      <th>719</th>\n",
              "      <td>1402140137312587777</td>\n",
              "      <td>RT @news18dotcom: An immunocompromised individ...</td>\n",
              "      <td>2021-06-08 05:47:13</td>\n",
              "      <td>1</td>\n",
              "      <td>0</td>\n",
              "      <td>TweetDeck</td>\n",
              "      <td>6509832</td>\n",
              "      <td>CNNnews18</td>\n",
              "      <td>News18</td>\n",
              "      <td>2007-06-01 20:31:01</td>\n",
              "      <td>Lightning fast alerts, #BreakingNews from Indi...</td>\n",
              "      <td>62</td>\n",
              "      <td>4597047</td>\n",
              "      <td>403</td>\n",
              "      <td>India</td>\n",
              "      <td>1</td>\n",
              "      <td>0</td>\n",
              "      <td>1</td>\n",
              "      <td>881487</td>\n",
              "    </tr>\n",
              "  </tbody>\n",
              "</table>\n",
              "<p>720 rows × 19 columns</p>\n",
              "</div>"
            ],
            "text/plain": [
              "                 TwittID  ... TweetCount\n",
              "0    1399625976800153600  ...      12891\n",
              "1    1399625927089217536  ...      12891\n",
              "2    1395367947552522241  ...      12891\n",
              "3    1395030557092769794  ...      12891\n",
              "4    1392771872056479748  ...      12891\n",
              "..                   ...  ...        ...\n",
              "715  1402144157053853703  ...     881487\n",
              "716  1402143957325258753  ...     881487\n",
              "717  1402142378102640643  ...     881487\n",
              "718  1402140713614299136  ...     881487\n",
              "719  1402140137312587777  ...     881487\n",
              "\n",
              "[720 rows x 19 columns]"
            ]
          },
          "metadata": {
            "tags": []
          },
          "execution_count": 116
        }
      ]
    },
    {
      "cell_type": "code",
      "metadata": {
        "colab": {
          "base_uri": "https://localhost:8080/",
          "height": 419
        },
        "id": "uAE4oR5AqZXx",
        "outputId": "0220f920-5cd3-4483-891a-b055a515194e"
      },
      "source": [
        "Total_leg_data[[\"UserFollowersCount\"]]"
      ],
      "execution_count": 105,
      "outputs": [
        {
          "output_type": "execute_result",
          "data": {
            "text/html": [
              "<div>\n",
              "<style scoped>\n",
              "    .dataframe tbody tr th:only-of-type {\n",
              "        vertical-align: middle;\n",
              "    }\n",
              "\n",
              "    .dataframe tbody tr th {\n",
              "        vertical-align: top;\n",
              "    }\n",
              "\n",
              "    .dataframe thead th {\n",
              "        text-align: right;\n",
              "    }\n",
              "</style>\n",
              "<table border=\"1\" class=\"dataframe\">\n",
              "  <thead>\n",
              "    <tr style=\"text-align: right;\">\n",
              "      <th></th>\n",
              "      <th>UserFollowersCount</th>\n",
              "    </tr>\n",
              "  </thead>\n",
              "  <tbody>\n",
              "    <tr>\n",
              "      <th>0</th>\n",
              "      <td>8138319</td>\n",
              "    </tr>\n",
              "    <tr>\n",
              "      <th>1</th>\n",
              "      <td>8138319</td>\n",
              "    </tr>\n",
              "    <tr>\n",
              "      <th>2</th>\n",
              "      <td>8138319</td>\n",
              "    </tr>\n",
              "    <tr>\n",
              "      <th>3</th>\n",
              "      <td>8138319</td>\n",
              "    </tr>\n",
              "    <tr>\n",
              "      <th>4</th>\n",
              "      <td>8138319</td>\n",
              "    </tr>\n",
              "    <tr>\n",
              "      <th>...</th>\n",
              "      <td>...</td>\n",
              "    </tr>\n",
              "    <tr>\n",
              "      <th>715</th>\n",
              "      <td>4597047</td>\n",
              "    </tr>\n",
              "    <tr>\n",
              "      <th>716</th>\n",
              "      <td>4597047</td>\n",
              "    </tr>\n",
              "    <tr>\n",
              "      <th>717</th>\n",
              "      <td>4597047</td>\n",
              "    </tr>\n",
              "    <tr>\n",
              "      <th>718</th>\n",
              "      <td>4597047</td>\n",
              "    </tr>\n",
              "    <tr>\n",
              "      <th>719</th>\n",
              "      <td>4597047</td>\n",
              "    </tr>\n",
              "  </tbody>\n",
              "</table>\n",
              "<p>720 rows × 1 columns</p>\n",
              "</div>"
            ],
            "text/plain": [
              "     UserFollowersCount\n",
              "0               8138319\n",
              "1               8138319\n",
              "2               8138319\n",
              "3               8138319\n",
              "4               8138319\n",
              "..                  ...\n",
              "715             4597047\n",
              "716             4597047\n",
              "717             4597047\n",
              "718             4597047\n",
              "719             4597047\n",
              "\n",
              "[720 rows x 1 columns]"
            ]
          },
          "metadata": {
            "tags": []
          },
          "execution_count": 105
        }
      ]
    },
    {
      "cell_type": "code",
      "metadata": {
        "colab": {
          "base_uri": "https://localhost:8080/"
        },
        "id": "bF6YvUYEsH38",
        "outputId": "ba0acdc7-6ec1-41c1-c1f4-5c2e7040c5e7"
      },
      "source": [
        "Total_leg_data[['RetweetCount']] = Total_leg_data[['RetweetCount']].astype(float)\n",
        "Total_leg_data.info()"
      ],
      "execution_count": 117,
      "outputs": [
        {
          "output_type": "stream",
          "text": [
            "<class 'pandas.core.frame.DataFrame'>\n",
            "RangeIndex: 720 entries, 0 to 719\n",
            "Data columns (total 19 columns):\n",
            " #   Column                 Non-Null Count  Dtype  \n",
            "---  ------                 --------------  -----  \n",
            " 0   TwittID                720 non-null    int64  \n",
            " 1   TextData               720 non-null    object \n",
            " 2   TweetCreatedAt         720 non-null    object \n",
            " 3   RetweetCount           720 non-null    float64\n",
            " 4   TweetFavouriteCount    720 non-null    int64  \n",
            " 5   TweetSource            720 non-null    object \n",
            " 6   UserID                 720 non-null    int64  \n",
            " 7   UserScreenName         720 non-null    object \n",
            " 8   UserName               720 non-null    object \n",
            " 9   UserCreatedAt          720 non-null    object \n",
            " 10  UserDescription        720 non-null    object \n",
            " 11  UserDescriptionLength  720 non-null    int64  \n",
            " 12  UserFollowersCount     720 non-null    int64  \n",
            " 13  UserFriendsCount       720 non-null    int64  \n",
            " 14  UserLocation           720 non-null    object \n",
            " 15  HttpCount              720 non-null    int64  \n",
            " 16  HashtagCount           720 non-null    int64  \n",
            " 17  MentionCount           720 non-null    int64  \n",
            " 18  TweetCount             720 non-null    int64  \n",
            "dtypes: float64(1), int64(10), object(8)\n",
            "memory usage: 107.0+ KB\n"
          ],
          "name": "stdout"
        }
      ]
    },
    {
      "cell_type": "code",
      "metadata": {
        "colab": {
          "base_uri": "https://localhost:8080/"
        },
        "id": "xVlttGGnuTWx",
        "outputId": "6ab8c91a-2b8b-4112-d562-ea8326af0fc9"
      },
      "source": [
        "Total_leg_data.shape"
      ],
      "execution_count": 118,
      "outputs": [
        {
          "output_type": "execute_result",
          "data": {
            "text/plain": [
              "(720, 19)"
            ]
          },
          "metadata": {
            "tags": []
          },
          "execution_count": 118
        }
      ]
    },
    {
      "cell_type": "code",
      "metadata": {
        "colab": {
          "base_uri": "https://localhost:8080/"
        },
        "id": "cSYa49SqsL9w",
        "outputId": "a4dc96f8-5b7a-41ce-9fd6-277243dc7813"
      },
      "source": [
        "# to see how many people have zero tweet\n",
        "Total_leg_data = Total_leg_data[Total_leg_data.TweetCount!=0]\n",
        "len(Total_leg_data[Total_leg_data.TweetCount<30])"
      ],
      "execution_count": 119,
      "outputs": [
        {
          "output_type": "execute_result",
          "data": {
            "text/plain": [
              "0"
            ]
          },
          "metadata": {
            "tags": []
          },
          "execution_count": 119
        }
      ]
    },
    {
      "cell_type": "code",
      "metadata": {
        "colab": {
          "base_uri": "https://localhost:8080/"
        },
        "id": "fg0ZkxFdsSu7",
        "outputId": "4cd5eada-f057-435f-a043-3c79a9102806"
      },
      "source": [
        "Total_leg_data[[\"RetweetCount\"]] = Total_leg_data[[\"RetweetCount\"]].astype(float)\n",
        "Total_leg_data.info()"
      ],
      "execution_count": 120,
      "outputs": [
        {
          "output_type": "stream",
          "text": [
            "<class 'pandas.core.frame.DataFrame'>\n",
            "Int64Index: 720 entries, 0 to 719\n",
            "Data columns (total 19 columns):\n",
            " #   Column                 Non-Null Count  Dtype  \n",
            "---  ------                 --------------  -----  \n",
            " 0   TwittID                720 non-null    int64  \n",
            " 1   TextData               720 non-null    object \n",
            " 2   TweetCreatedAt         720 non-null    object \n",
            " 3   RetweetCount           720 non-null    float64\n",
            " 4   TweetFavouriteCount    720 non-null    int64  \n",
            " 5   TweetSource            720 non-null    object \n",
            " 6   UserID                 720 non-null    int64  \n",
            " 7   UserScreenName         720 non-null    object \n",
            " 8   UserName               720 non-null    object \n",
            " 9   UserCreatedAt          720 non-null    object \n",
            " 10  UserDescription        720 non-null    object \n",
            " 11  UserDescriptionLength  720 non-null    int64  \n",
            " 12  UserFollowersCount     720 non-null    int64  \n",
            " 13  UserFriendsCount       720 non-null    int64  \n",
            " 14  UserLocation           720 non-null    object \n",
            " 15  HttpCount              720 non-null    int64  \n",
            " 16  HashtagCount           720 non-null    int64  \n",
            " 17  MentionCount           720 non-null    int64  \n",
            " 18  TweetCount             720 non-null    int64  \n",
            "dtypes: float64(1), int64(10), object(8)\n",
            "memory usage: 112.5+ KB\n"
          ],
          "name": "stdout"
        }
      ]
    },
    {
      "cell_type": "code",
      "metadata": {
        "colab": {
          "base_uri": "https://localhost:8080/"
        },
        "id": "CKBr3W9kuXIP",
        "outputId": "c7e9fcbc-3977-4e3c-8f9a-87110d34df62"
      },
      "source": [
        "Total_leg_data.shape"
      ],
      "execution_count": 121,
      "outputs": [
        {
          "output_type": "execute_result",
          "data": {
            "text/plain": [
              "(720, 19)"
            ]
          },
          "metadata": {
            "tags": []
          },
          "execution_count": 121
        }
      ]
    },
    {
      "cell_type": "code",
      "metadata": {
        "id": "QbCRpmJMsUqA"
      },
      "source": [
        "Total_leg_data.loc[:,\"AvgHashtag\"] = (Total_leg_data.groupby('UserID')[\"HashtagCount\"].transform('sum'))/30\n",
        "Total_leg_data.loc[:,\"AvgURLCount\"] = (Total_leg_data.groupby('UserID')[\"HttpCount\"].transform('sum'))/30\n",
        "Total_leg_data.loc[:,\"AvgMention\"] = (Total_leg_data.groupby('UserID')[\"MentionCount\"].transform('sum'))/30\n",
        "Total_leg_data.loc[:,\"AvgRetweet\"] = (Total_leg_data.groupby('UserID')[\"RetweetCount\"].transform('sum'))/30\n",
        "Total_leg_data.loc[:,\"AvgFavCount\"] = (Total_leg_data.groupby('UserID')[\"TweetFavouriteCount\"].transform('sum'))/30"
      ],
      "execution_count": 122,
      "outputs": []
    },
    {
      "cell_type": "code",
      "metadata": {
        "colab": {
          "base_uri": "https://localhost:8080/"
        },
        "id": "P8-I0GyPuahG",
        "outputId": "097e383c-dc9a-4c1a-9bb3-5a201c440121"
      },
      "source": [
        "Total_leg_data.shape"
      ],
      "execution_count": 123,
      "outputs": [
        {
          "output_type": "execute_result",
          "data": {
            "text/plain": [
              "(720, 24)"
            ]
          },
          "metadata": {
            "tags": []
          },
          "execution_count": 123
        }
      ]
    },
    {
      "cell_type": "code",
      "metadata": {
        "id": "Jho60WvhsiYN"
      },
      "source": [
        "# Add a Column to LEgitimate Data that this is not Spam =0\n",
        "leg_data.loc[:, \"SpammerOrNot\"]=0\n",
        "leg_data.sample(10)"
      ],
      "execution_count": null,
      "outputs": []
    },
    {
      "cell_type": "code",
      "metadata": {
        "id": "J4HF664FuxAF"
      },
      "source": [
        "Total_leg_data.loc[:, \"SpammerOrNot\"]=0"
      ],
      "execution_count": 124,
      "outputs": []
    },
    {
      "cell_type": "code",
      "metadata": {
        "colab": {
          "base_uri": "https://localhost:8080/"
        },
        "id": "nQGwGocXuxOK",
        "outputId": "b1e4222f-8b5b-485a-a503-c626efdf1bd3"
      },
      "source": [
        "Total_leg_data.shape"
      ],
      "execution_count": 125,
      "outputs": [
        {
          "output_type": "execute_result",
          "data": {
            "text/plain": [
              "(720, 25)"
            ]
          },
          "metadata": {
            "tags": []
          },
          "execution_count": 125
        }
      ]
    },
    {
      "cell_type": "code",
      "metadata": {
        "colab": {
          "base_uri": "https://localhost:8080/"
        },
        "id": "_ObMbk94slc2",
        "outputId": "9cdcd476-8f64-403d-8b08-3f060dd28b22"
      },
      "source": [
        "Total_leg_data.SpammerOrNot.value_counts()"
      ],
      "execution_count": 127,
      "outputs": [
        {
          "output_type": "execute_result",
          "data": {
            "text/plain": [
              "0    720\n",
              "Name: SpammerOrNot, dtype: int64"
            ]
          },
          "metadata": {
            "tags": []
          },
          "execution_count": 127
        }
      ]
    },
    {
      "cell_type": "code",
      "metadata": {
        "colab": {
          "base_uri": "https://localhost:8080/"
        },
        "id": "pY89ZT6pst1k",
        "outputId": "8f989428-5c4b-488c-ec50-5a1e7bbe81a0"
      },
      "source": [
        "leg_data[\"TweetCount\"].describe()"
      ],
      "execution_count": 74,
      "outputs": [
        {
          "output_type": "execute_result",
          "data": {
            "text/plain": [
              "count        26.000000\n",
              "mean     391523.692308\n",
              "std      335314.638177\n",
              "min        2775.000000\n",
              "25%       29914.000000\n",
              "50%      360549.000000\n",
              "75%      673337.250000\n",
              "max      900465.000000\n",
              "Name: TweetCount, dtype: float64"
            ]
          },
          "metadata": {
            "tags": []
          },
          "execution_count": 74
        }
      ]
    },
    {
      "cell_type": "code",
      "metadata": {
        "colab": {
          "base_uri": "https://localhost:8080/"
        },
        "id": "qMsyaKyjs0HY",
        "outputId": "752997fe-cd0b-4108-ceab-b13638fb5e3f"
      },
      "source": [
        "# Now Loading Spammer Data \n",
        "Total_spam_data = pd.read_csv(\"SpamData.csv\")\n",
        "Total_spam_data.fillna(0, inplace=True)\n",
        "Total_spam_data.drop('Unnamed: 0',axis=1,inplace=True)\n",
        "Total_spam_data.shape"
      ],
      "execution_count": 128,
      "outputs": [
        {
          "output_type": "execute_result",
          "data": {
            "text/plain": [
              "(210, 19)"
            ]
          },
          "metadata": {
            "tags": []
          },
          "execution_count": 128
        }
      ]
    },
    {
      "cell_type": "code",
      "metadata": {
        "colab": {
          "base_uri": "https://localhost:8080/"
        },
        "id": "61e4p3Sws8TW",
        "outputId": "07cb3ea3-80ce-48f8-8a53-12e30a243636"
      },
      "source": [
        "Total_spam_data[['RetweetCount']] = Total_spam_data[['RetweetCount']].astype(float)\n",
        "Total_spam_data.info()"
      ],
      "execution_count": 129,
      "outputs": [
        {
          "output_type": "stream",
          "text": [
            "<class 'pandas.core.frame.DataFrame'>\n",
            "RangeIndex: 210 entries, 0 to 209\n",
            "Data columns (total 19 columns):\n",
            " #   Column                 Non-Null Count  Dtype  \n",
            "---  ------                 --------------  -----  \n",
            " 0   TwittID                210 non-null    int64  \n",
            " 1   TextData               210 non-null    object \n",
            " 2   TweetCreatedAt         210 non-null    object \n",
            " 3   RetweetCount           210 non-null    float64\n",
            " 4   TweetFavouriteCount    210 non-null    int64  \n",
            " 5   TweetSource            210 non-null    object \n",
            " 6   UserID                 210 non-null    int64  \n",
            " 7   UserScreenName         210 non-null    object \n",
            " 8   UserName               210 non-null    object \n",
            " 9   UserCreatedAt          210 non-null    object \n",
            " 10  UserDescription        210 non-null    object \n",
            " 11  UserDescriptionLength  210 non-null    int64  \n",
            " 12  UserFollowersCount     210 non-null    int64  \n",
            " 13  UserFriendsCount       210 non-null    int64  \n",
            " 14  UserLocation           210 non-null    object \n",
            " 15  HttpCount              210 non-null    int64  \n",
            " 16  HashtagCount           210 non-null    int64  \n",
            " 17  MentionCount           210 non-null    int64  \n",
            " 18  TweetCount             210 non-null    int64  \n",
            "dtypes: float64(1), int64(10), object(8)\n",
            "memory usage: 31.3+ KB\n"
          ],
          "name": "stdout"
        }
      ]
    },
    {
      "cell_type": "code",
      "metadata": {
        "colab": {
          "base_uri": "https://localhost:8080/"
        },
        "id": "WsHuItdqtFx2",
        "outputId": "be6a2d50-e4bb-49ea-d54c-000a8190296c"
      },
      "source": [
        "Total_spam_data = Total_spam_data[Total_spam_data.TweetCount!=0]\n",
        "len(Total_spam_data[Total_spam_data.TweetCount<30])"
      ],
      "execution_count": 130,
      "outputs": [
        {
          "output_type": "execute_result",
          "data": {
            "text/plain": [
              "0"
            ]
          },
          "metadata": {
            "tags": []
          },
          "execution_count": 130
        }
      ]
    },
    {
      "cell_type": "code",
      "metadata": {
        "id": "TMsWAQDxtIIq"
      },
      "source": [
        "Total_spam_data.loc[:,'AvgHashtag'] = (Total_spam_data.groupby('UserID')[\"HashtagCount\"].transform('sum'))/30\n",
        "Total_spam_data.loc[:,'AvgURLCount'] = (Total_spam_data.groupby('UserID')[\"HttpCount\"].transform('sum'))/30\n",
        "Total_spam_data.loc[:,'AvgMention'] = (Total_spam_data.groupby('UserID')[\"MentionCount\"].transform('sum'))/30\n",
        "Total_spam_data.loc[:,'AvgRetweet'] = (Total_spam_data.groupby('UserID')[\"RetweetCount\"].transform('sum'))/30\n",
        "Total_spam_data.loc[:,'AvgFavCount'] = (Total_spam_data.groupby('UserID')[\"TweetFavouriteCount\"].transform('sum'))/30"
      ],
      "execution_count": 131,
      "outputs": []
    },
    {
      "cell_type": "code",
      "metadata": {
        "id": "zoZDbPAXu--4"
      },
      "source": [
        "Total_spam_data.loc[:, \"SpammerOrNot\"]=1"
      ],
      "execution_count": 133,
      "outputs": []
    },
    {
      "cell_type": "code",
      "metadata": {
        "colab": {
          "base_uri": "https://localhost:8080/"
        },
        "id": "q4NzEAELvi_R",
        "outputId": "1b529da0-2350-48f4-ad8d-3fd96eb7d71e"
      },
      "source": [
        "Total_spam_data.shape"
      ],
      "execution_count": 134,
      "outputs": [
        {
          "output_type": "execute_result",
          "data": {
            "text/plain": [
              "(210, 25)"
            ]
          },
          "metadata": {
            "tags": []
          },
          "execution_count": 134
        }
      ]
    },
    {
      "cell_type": "code",
      "metadata": {
        "colab": {
          "base_uri": "https://localhost:8080/"
        },
        "id": "BIZvVtultekB",
        "outputId": "0cc9ac52-cf3c-4dc8-ebec-3d67579a1191"
      },
      "source": [
        "frames = [Total_leg_data, Total_spam_data]\n",
        "Total_data = pd.concat(frames, axis=0, sort=False)\n",
        "Total_data.info()"
      ],
      "execution_count": 135,
      "outputs": [
        {
          "output_type": "stream",
          "text": [
            "<class 'pandas.core.frame.DataFrame'>\n",
            "Int64Index: 930 entries, 0 to 209\n",
            "Data columns (total 25 columns):\n",
            " #   Column                 Non-Null Count  Dtype  \n",
            "---  ------                 --------------  -----  \n",
            " 0   TwittID                930 non-null    int64  \n",
            " 1   TextData               930 non-null    object \n",
            " 2   TweetCreatedAt         930 non-null    object \n",
            " 3   RetweetCount           930 non-null    float64\n",
            " 4   TweetFavouriteCount    930 non-null    int64  \n",
            " 5   TweetSource            930 non-null    object \n",
            " 6   UserID                 930 non-null    int64  \n",
            " 7   UserScreenName         930 non-null    object \n",
            " 8   UserName               930 non-null    object \n",
            " 9   UserCreatedAt          930 non-null    object \n",
            " 10  UserDescription        930 non-null    object \n",
            " 11  UserDescriptionLength  930 non-null    int64  \n",
            " 12  UserFollowersCount     930 non-null    int64  \n",
            " 13  UserFriendsCount       930 non-null    int64  \n",
            " 14  UserLocation           930 non-null    object \n",
            " 15  HttpCount              930 non-null    int64  \n",
            " 16  HashtagCount           930 non-null    int64  \n",
            " 17  MentionCount           930 non-null    int64  \n",
            " 18  TweetCount             930 non-null    int64  \n",
            " 19  AvgHashtag             930 non-null    float64\n",
            " 20  AvgURLCount            930 non-null    float64\n",
            " 21  AvgMention             930 non-null    float64\n",
            " 22  AvgRetweet             930 non-null    float64\n",
            " 23  AvgFavCount            930 non-null    float64\n",
            " 24  SpammerOrNot           930 non-null    int64  \n",
            "dtypes: float64(6), int64(11), object(8)\n",
            "memory usage: 188.9+ KB\n"
          ],
          "name": "stdout"
        }
      ]
    },
    {
      "cell_type": "code",
      "metadata": {
        "id": "O1-ib7K2thTX"
      },
      "source": [
        "Total_data.reset_index()\n",
        "Total_data.to_csv('Total_data.csv', sep=',', encoding='utf8')"
      ],
      "execution_count": 136,
      "outputs": []
    },
    {
      "cell_type": "code",
      "metadata": {
        "id": "Ftof04oztjzK"
      },
      "source": [
        "df = pd.read_csv('Total_data.csv')"
      ],
      "execution_count": 137,
      "outputs": []
    },
    {
      "cell_type": "code",
      "metadata": {
        "id": "Lmg6BomOtrcd"
      },
      "source": [
        "df.drop('Unnamed: 0',axis=1,inplace=True)"
      ],
      "execution_count": 140,
      "outputs": []
    },
    {
      "cell_type": "code",
      "metadata": {
        "colab": {
          "base_uri": "https://localhost:8080/"
        },
        "id": "ho_t1HY1tsZy",
        "outputId": "39ad6fda-8489-4144-93b6-eda72a7f0e6f"
      },
      "source": [
        "df.shape"
      ],
      "execution_count": 141,
      "outputs": [
        {
          "output_type": "execute_result",
          "data": {
            "text/plain": [
              "(930, 25)"
            ]
          },
          "metadata": {
            "tags": []
          },
          "execution_count": 141
        }
      ]
    },
    {
      "cell_type": "code",
      "metadata": {
        "colab": {
          "base_uri": "https://localhost:8080/",
          "height": 151
        },
        "id": "NeRScPiht0fK",
        "outputId": "c9478193-f22e-4114-f7a1-0ed8f9685f12"
      },
      "source": [
        "df.head(1)"
      ],
      "execution_count": 144,
      "outputs": [
        {
          "output_type": "execute_result",
          "data": {
            "text/html": [
              "<div>\n",
              "<style scoped>\n",
              "    .dataframe tbody tr th:only-of-type {\n",
              "        vertical-align: middle;\n",
              "    }\n",
              "\n",
              "    .dataframe tbody tr th {\n",
              "        vertical-align: top;\n",
              "    }\n",
              "\n",
              "    .dataframe thead th {\n",
              "        text-align: right;\n",
              "    }\n",
              "</style>\n",
              "<table border=\"1\" class=\"dataframe\">\n",
              "  <thead>\n",
              "    <tr style=\"text-align: right;\">\n",
              "      <th></th>\n",
              "      <th>TwittID</th>\n",
              "      <th>TextData</th>\n",
              "      <th>TweetCreatedAt</th>\n",
              "      <th>RetweetCount</th>\n",
              "      <th>TweetFavouriteCount</th>\n",
              "      <th>TweetSource</th>\n",
              "      <th>UserID</th>\n",
              "      <th>UserScreenName</th>\n",
              "      <th>UserName</th>\n",
              "      <th>UserCreatedAt</th>\n",
              "      <th>UserDescription</th>\n",
              "      <th>UserDescriptionLength</th>\n",
              "      <th>UserFollowersCount</th>\n",
              "      <th>UserFriendsCount</th>\n",
              "      <th>UserLocation</th>\n",
              "      <th>HttpCount</th>\n",
              "      <th>HashtagCount</th>\n",
              "      <th>MentionCount</th>\n",
              "      <th>TweetCount</th>\n",
              "      <th>AvgHashtag</th>\n",
              "      <th>AvgURLCount</th>\n",
              "      <th>AvgMention</th>\n",
              "      <th>AvgRetweet</th>\n",
              "      <th>AvgFavCount</th>\n",
              "      <th>SpammerOrNot</th>\n",
              "    </tr>\n",
              "  </thead>\n",
              "  <tbody>\n",
              "    <tr>\n",
              "      <th>0</th>\n",
              "      <td>1399625976800153600</td>\n",
              "      <td>RT @karthiksubbaraj: Here's #JagameThandhiramT...</td>\n",
              "      <td>2021-06-01 07:16:51</td>\n",
              "      <td>3227.0</td>\n",
              "      <td>0</td>\n",
              "      <td>Twitter for iPhone</td>\n",
              "      <td>216447259</td>\n",
              "      <td>anirudhofficial</td>\n",
              "      <td>Anirudh Ravichander</td>\n",
              "      <td>2010-11-16 19:13:06</td>\n",
              "      <td>Music Composer/Singer in the Indian Film Industry</td>\n",
              "      <td>49</td>\n",
              "      <td>8138319</td>\n",
              "      <td>207</td>\n",
              "      <td>Chennai</td>\n",
              "      <td>1</td>\n",
              "      <td>2</td>\n",
              "      <td>4</td>\n",
              "      <td>12891</td>\n",
              "      <td>1.133333</td>\n",
              "      <td>0.433333</td>\n",
              "      <td>1.566667</td>\n",
              "      <td>2806.4</td>\n",
              "      <td>6632.266667</td>\n",
              "      <td>0</td>\n",
              "    </tr>\n",
              "  </tbody>\n",
              "</table>\n",
              "</div>"
            ],
            "text/plain": [
              "               TwittID  ... SpammerOrNot\n",
              "0  1399625976800153600  ...            0\n",
              "\n",
              "[1 rows x 25 columns]"
            ]
          },
          "metadata": {
            "tags": []
          },
          "execution_count": 144
        }
      ]
    },
    {
      "cell_type": "code",
      "metadata": {
        "colab": {
          "base_uri": "https://localhost:8080/"
        },
        "id": "gFr80Qlrv3uF",
        "outputId": "8acd5f89-bdfc-420a-aae6-5151aeffff55"
      },
      "source": [
        "df.shape"
      ],
      "execution_count": 143,
      "outputs": [
        {
          "output_type": "execute_result",
          "data": {
            "text/plain": [
              "(930, 25)"
            ]
          },
          "metadata": {
            "tags": []
          },
          "execution_count": 143
        }
      ]
    },
    {
      "cell_type": "code",
      "metadata": {
        "colab": {
          "base_uri": "https://localhost:8080/"
        },
        "id": "KqI9dmus7BQJ",
        "outputId": "1d86d2eb-1e4e-4dc3-e21d-442a00c24f26"
      },
      "source": [
        "df.columns"
      ],
      "execution_count": 145,
      "outputs": [
        {
          "output_type": "execute_result",
          "data": {
            "text/plain": [
              "Index(['TwittID', 'TextData', 'TweetCreatedAt', 'RetweetCount',\n",
              "       'TweetFavouriteCount', 'TweetSource', 'UserID', 'UserScreenName',\n",
              "       'UserName', 'UserCreatedAt', 'UserDescription', 'UserDescriptionLength',\n",
              "       'UserFollowersCount', 'UserFriendsCount', 'UserLocation', 'HttpCount',\n",
              "       'HashtagCount', 'MentionCount', 'TweetCount', 'AvgHashtag',\n",
              "       'AvgURLCount', 'AvgMention', 'AvgRetweet', 'AvgFavCount',\n",
              "       'SpammerOrNot'],\n",
              "      dtype='object')"
            ]
          },
          "metadata": {
            "tags": []
          },
          "execution_count": 145
        }
      ]
    },
    {
      "cell_type": "code",
      "metadata": {
        "id": "4ez4k1xC2yow"
      },
      "source": [
        "Lis = ['RetweetCount','TweetFavouriteCount','UserDescriptionLength','UserFollowersCount', 'UserFriendsCount','HttpCount','HashtagCount', 'MentionCount', 'TweetCount', 'AvgHashtag','AvgURLCount', 'AvgMention', 'AvgRetweet', 'AvgFavCount']"
      ],
      "execution_count": 146,
      "outputs": []
    },
    {
      "cell_type": "code",
      "metadata": {
        "id": "IwmK1_A07WdP"
      },
      "source": [
        "X = df[Lis]"
      ],
      "execution_count": 147,
      "outputs": []
    },
    {
      "cell_type": "code",
      "metadata": {
        "colab": {
          "base_uri": "https://localhost:8080/",
          "height": 439
        },
        "id": "PMEjVN757ZpV",
        "outputId": "5d01a745-0ae8-4f57-82fe-f7627faf1734"
      },
      "source": [
        "X"
      ],
      "execution_count": 148,
      "outputs": [
        {
          "output_type": "execute_result",
          "data": {
            "text/html": [
              "<div>\n",
              "<style scoped>\n",
              "    .dataframe tbody tr th:only-of-type {\n",
              "        vertical-align: middle;\n",
              "    }\n",
              "\n",
              "    .dataframe tbody tr th {\n",
              "        vertical-align: top;\n",
              "    }\n",
              "\n",
              "    .dataframe thead th {\n",
              "        text-align: right;\n",
              "    }\n",
              "</style>\n",
              "<table border=\"1\" class=\"dataframe\">\n",
              "  <thead>\n",
              "    <tr style=\"text-align: right;\">\n",
              "      <th></th>\n",
              "      <th>RetweetCount</th>\n",
              "      <th>TweetFavouriteCount</th>\n",
              "      <th>UserDescriptionLength</th>\n",
              "      <th>UserFollowersCount</th>\n",
              "      <th>UserFriendsCount</th>\n",
              "      <th>HttpCount</th>\n",
              "      <th>HashtagCount</th>\n",
              "      <th>MentionCount</th>\n",
              "      <th>TweetCount</th>\n",
              "      <th>AvgHashtag</th>\n",
              "      <th>AvgURLCount</th>\n",
              "      <th>AvgMention</th>\n",
              "      <th>AvgRetweet</th>\n",
              "      <th>AvgFavCount</th>\n",
              "    </tr>\n",
              "  </thead>\n",
              "  <tbody>\n",
              "    <tr>\n",
              "      <th>0</th>\n",
              "      <td>3227.0</td>\n",
              "      <td>0</td>\n",
              "      <td>49</td>\n",
              "      <td>8138319</td>\n",
              "      <td>207</td>\n",
              "      <td>1</td>\n",
              "      <td>2</td>\n",
              "      <td>4</td>\n",
              "      <td>12891</td>\n",
              "      <td>1.133333</td>\n",
              "      <td>0.433333</td>\n",
              "      <td>1.566667</td>\n",
              "      <td>2806.4</td>\n",
              "      <td>6632.266667</td>\n",
              "    </tr>\n",
              "    <tr>\n",
              "      <th>1</th>\n",
              "      <td>7527.0</td>\n",
              "      <td>0</td>\n",
              "      <td>49</td>\n",
              "      <td>8138319</td>\n",
              "      <td>207</td>\n",
              "      <td>0</td>\n",
              "      <td>0</td>\n",
              "      <td>1</td>\n",
              "      <td>12891</td>\n",
              "      <td>1.133333</td>\n",
              "      <td>0.433333</td>\n",
              "      <td>1.566667</td>\n",
              "      <td>2806.4</td>\n",
              "      <td>6632.266667</td>\n",
              "    </tr>\n",
              "    <tr>\n",
              "      <th>2</th>\n",
              "      <td>302.0</td>\n",
              "      <td>3645</td>\n",
              "      <td>49</td>\n",
              "      <td>8138319</td>\n",
              "      <td>207</td>\n",
              "      <td>1</td>\n",
              "      <td>1</td>\n",
              "      <td>3</td>\n",
              "      <td>12891</td>\n",
              "      <td>1.133333</td>\n",
              "      <td>0.433333</td>\n",
              "      <td>1.566667</td>\n",
              "      <td>2806.4</td>\n",
              "      <td>6632.266667</td>\n",
              "    </tr>\n",
              "    <tr>\n",
              "      <th>3</th>\n",
              "      <td>925.0</td>\n",
              "      <td>2715</td>\n",
              "      <td>49</td>\n",
              "      <td>8138319</td>\n",
              "      <td>207</td>\n",
              "      <td>1</td>\n",
              "      <td>2</td>\n",
              "      <td>0</td>\n",
              "      <td>12891</td>\n",
              "      <td>1.133333</td>\n",
              "      <td>0.433333</td>\n",
              "      <td>1.566667</td>\n",
              "      <td>2806.4</td>\n",
              "      <td>6632.266667</td>\n",
              "    </tr>\n",
              "    <tr>\n",
              "      <th>4</th>\n",
              "      <td>4565.0</td>\n",
              "      <td>0</td>\n",
              "      <td>49</td>\n",
              "      <td>8138319</td>\n",
              "      <td>207</td>\n",
              "      <td>0</td>\n",
              "      <td>2</td>\n",
              "      <td>1</td>\n",
              "      <td>12891</td>\n",
              "      <td>1.133333</td>\n",
              "      <td>0.433333</td>\n",
              "      <td>1.566667</td>\n",
              "      <td>2806.4</td>\n",
              "      <td>6632.266667</td>\n",
              "    </tr>\n",
              "    <tr>\n",
              "      <th>...</th>\n",
              "      <td>...</td>\n",
              "      <td>...</td>\n",
              "      <td>...</td>\n",
              "      <td>...</td>\n",
              "      <td>...</td>\n",
              "      <td>...</td>\n",
              "      <td>...</td>\n",
              "      <td>...</td>\n",
              "      <td>...</td>\n",
              "      <td>...</td>\n",
              "      <td>...</td>\n",
              "      <td>...</td>\n",
              "      <td>...</td>\n",
              "      <td>...</td>\n",
              "    </tr>\n",
              "    <tr>\n",
              "      <th>925</th>\n",
              "      <td>0.0</td>\n",
              "      <td>0</td>\n",
              "      <td>98</td>\n",
              "      <td>275</td>\n",
              "      <td>922</td>\n",
              "      <td>1</td>\n",
              "      <td>0</td>\n",
              "      <td>3</td>\n",
              "      <td>8481</td>\n",
              "      <td>0.166667</td>\n",
              "      <td>0.600000</td>\n",
              "      <td>1.133333</td>\n",
              "      <td>65.9</td>\n",
              "      <td>0.400000</td>\n",
              "    </tr>\n",
              "    <tr>\n",
              "      <th>926</th>\n",
              "      <td>0.0</td>\n",
              "      <td>5</td>\n",
              "      <td>98</td>\n",
              "      <td>275</td>\n",
              "      <td>922</td>\n",
              "      <td>1</td>\n",
              "      <td>0</td>\n",
              "      <td>1</td>\n",
              "      <td>8481</td>\n",
              "      <td>0.166667</td>\n",
              "      <td>0.600000</td>\n",
              "      <td>1.133333</td>\n",
              "      <td>65.9</td>\n",
              "      <td>0.400000</td>\n",
              "    </tr>\n",
              "    <tr>\n",
              "      <th>927</th>\n",
              "      <td>25.0</td>\n",
              "      <td>0</td>\n",
              "      <td>98</td>\n",
              "      <td>275</td>\n",
              "      <td>922</td>\n",
              "      <td>1</td>\n",
              "      <td>0</td>\n",
              "      <td>1</td>\n",
              "      <td>8481</td>\n",
              "      <td>0.166667</td>\n",
              "      <td>0.600000</td>\n",
              "      <td>1.133333</td>\n",
              "      <td>65.9</td>\n",
              "      <td>0.400000</td>\n",
              "    </tr>\n",
              "    <tr>\n",
              "      <th>928</th>\n",
              "      <td>0.0</td>\n",
              "      <td>3</td>\n",
              "      <td>98</td>\n",
              "      <td>275</td>\n",
              "      <td>922</td>\n",
              "      <td>0</td>\n",
              "      <td>0</td>\n",
              "      <td>3</td>\n",
              "      <td>8481</td>\n",
              "      <td>0.166667</td>\n",
              "      <td>0.600000</td>\n",
              "      <td>1.133333</td>\n",
              "      <td>65.9</td>\n",
              "      <td>0.400000</td>\n",
              "    </tr>\n",
              "    <tr>\n",
              "      <th>929</th>\n",
              "      <td>17.0</td>\n",
              "      <td>0</td>\n",
              "      <td>98</td>\n",
              "      <td>275</td>\n",
              "      <td>922</td>\n",
              "      <td>1</td>\n",
              "      <td>0</td>\n",
              "      <td>1</td>\n",
              "      <td>8481</td>\n",
              "      <td>0.166667</td>\n",
              "      <td>0.600000</td>\n",
              "      <td>1.133333</td>\n",
              "      <td>65.9</td>\n",
              "      <td>0.400000</td>\n",
              "    </tr>\n",
              "  </tbody>\n",
              "</table>\n",
              "<p>930 rows × 14 columns</p>\n",
              "</div>"
            ],
            "text/plain": [
              "     RetweetCount  TweetFavouriteCount  ...  AvgRetweet  AvgFavCount\n",
              "0          3227.0                    0  ...      2806.4  6632.266667\n",
              "1          7527.0                    0  ...      2806.4  6632.266667\n",
              "2           302.0                 3645  ...      2806.4  6632.266667\n",
              "3           925.0                 2715  ...      2806.4  6632.266667\n",
              "4          4565.0                    0  ...      2806.4  6632.266667\n",
              "..            ...                  ...  ...         ...          ...\n",
              "925           0.0                    0  ...        65.9     0.400000\n",
              "926           0.0                    5  ...        65.9     0.400000\n",
              "927          25.0                    0  ...        65.9     0.400000\n",
              "928           0.0                    3  ...        65.9     0.400000\n",
              "929          17.0                    0  ...        65.9     0.400000\n",
              "\n",
              "[930 rows x 14 columns]"
            ]
          },
          "metadata": {
            "tags": []
          },
          "execution_count": 148
        }
      ]
    },
    {
      "cell_type": "code",
      "metadata": {
        "id": "nxeO5bpw7aZw"
      },
      "source": [
        "y = df['SpammerOrNot']"
      ],
      "execution_count": 149,
      "outputs": []
    },
    {
      "cell_type": "code",
      "metadata": {
        "colab": {
          "base_uri": "https://localhost:8080/"
        },
        "id": "fsYfhj5X7mrm",
        "outputId": "93990d6c-20a2-41f9-e74c-99cfec113ec9"
      },
      "source": [
        "y"
      ],
      "execution_count": 150,
      "outputs": [
        {
          "output_type": "execute_result",
          "data": {
            "text/plain": [
              "0      0\n",
              "1      0\n",
              "2      0\n",
              "3      0\n",
              "4      0\n",
              "      ..\n",
              "925    1\n",
              "926    1\n",
              "927    1\n",
              "928    1\n",
              "929    1\n",
              "Name: SpammerOrNot, Length: 930, dtype: int64"
            ]
          },
          "metadata": {
            "tags": []
          },
          "execution_count": 150
        }
      ]
    },
    {
      "cell_type": "code",
      "metadata": {
        "id": "wYRjku167nO8"
      },
      "source": [
        "X_train,X_test,y_train,y_test = train_test_split(X, y, test_size=0.20, random_state=24)"
      ],
      "execution_count": 152,
      "outputs": []
    },
    {
      "cell_type": "code",
      "metadata": {
        "id": "1Q37nzcx8Bfu"
      },
      "source": [
        "from sklearn.linear_model import LogisticRegression\n"
      ],
      "execution_count": 158,
      "outputs": []
    },
    {
      "cell_type": "code",
      "metadata": {
        "id": "vQin11nb7uiK"
      },
      "source": [
        "model=LogisticRegression(max_iter=1000)"
      ],
      "execution_count": 159,
      "outputs": []
    },
    {
      "cell_type": "code",
      "metadata": {
        "colab": {
          "base_uri": "https://localhost:8080/"
        },
        "id": "0r_v2fEE72uZ",
        "outputId": "5bf82895-b7c7-4d4c-91d2-8ac46fafd96a"
      },
      "source": [
        "model.fit(X_train, y_train)"
      ],
      "execution_count": 160,
      "outputs": [
        {
          "output_type": "execute_result",
          "data": {
            "text/plain": [
              "LogisticRegression(C=1.0, class_weight=None, dual=False, fit_intercept=True,\n",
              "                   intercept_scaling=1, l1_ratio=None, max_iter=1000,\n",
              "                   multi_class='auto', n_jobs=None, penalty='l2',\n",
              "                   random_state=None, solver='lbfgs', tol=0.0001, verbose=0,\n",
              "                   warm_start=False)"
            ]
          },
          "metadata": {
            "tags": []
          },
          "execution_count": 160
        }
      ]
    },
    {
      "cell_type": "code",
      "metadata": {
        "id": "Zn2aIqSZ74n_"
      },
      "source": [
        "prediction=model.predict(X_test)"
      ],
      "execution_count": 161,
      "outputs": []
    },
    {
      "cell_type": "code",
      "metadata": {
        "colab": {
          "base_uri": "https://localhost:8080/"
        },
        "id": "osXHBDpw750T",
        "outputId": "17e5596a-4df2-47e3-c95a-73b424bfeb45"
      },
      "source": [
        "model"
      ],
      "execution_count": 162,
      "outputs": [
        {
          "output_type": "execute_result",
          "data": {
            "text/plain": [
              "LogisticRegression(C=1.0, class_weight=None, dual=False, fit_intercept=True,\n",
              "                   intercept_scaling=1, l1_ratio=None, max_iter=1000,\n",
              "                   multi_class='auto', n_jobs=None, penalty='l2',\n",
              "                   random_state=None, solver='lbfgs', tol=0.0001, verbose=0,\n",
              "                   warm_start=False)"
            ]
          },
          "metadata": {
            "tags": []
          },
          "execution_count": 162
        }
      ]
    },
    {
      "cell_type": "code",
      "metadata": {
        "id": "z5Qrbw2T8GWR"
      },
      "source": [
        "from sklearn.metrics import classification_report,confusion_matrix,accuracy_score,plot_roc_curve\n"
      ],
      "execution_count": 164,
      "outputs": []
    },
    {
      "cell_type": "code",
      "metadata": {
        "colab": {
          "base_uri": "https://localhost:8080/"
        },
        "id": "BJvkrSVC7-vZ",
        "outputId": "86b41d4d-42a8-4789-8309-6c0153cd7714"
      },
      "source": [
        "prediction"
      ],
      "execution_count": 166,
      "outputs": [
        {
          "output_type": "execute_result",
          "data": {
            "text/plain": [
              "array([0, 0, 1, 0, 0, 0, 0, 0, 0, 0, 0, 0, 0, 1, 0, 0, 1, 0, 0, 0, 0, 0,\n",
              "       0, 0, 0, 1, 0, 0, 0, 0, 0, 0, 0, 0, 1, 1, 0, 1, 0, 0, 0, 0, 1, 1,\n",
              "       0, 0, 0, 1, 0, 0, 0, 0, 0, 1, 0, 1, 0, 0, 0, 0, 0, 1, 0, 1, 0, 0,\n",
              "       0, 0, 0, 0, 0, 0, 0, 0, 0, 0, 0, 0, 1, 0, 0, 0, 0, 1, 1, 0, 0, 1,\n",
              "       0, 0, 0, 1, 0, 1, 1, 1, 0, 0, 1, 0, 0, 0, 0, 0, 1, 0, 0, 0, 0, 0,\n",
              "       0, 0, 1, 0, 0, 1, 0, 1, 0, 1, 1, 0, 0, 0, 1, 0, 0, 0, 1, 0, 0, 0,\n",
              "       0, 0, 1, 0, 0, 0, 0, 0, 0, 1, 0, 0, 0, 0, 1, 0, 0, 0, 0, 0, 0, 1,\n",
              "       1, 0, 0, 0, 0, 0, 1, 0, 0, 1, 0, 0, 0, 0, 0, 0, 0, 0, 0, 0, 0, 1,\n",
              "       1, 1, 1, 0, 0, 0, 0, 0, 0, 0])"
            ]
          },
          "metadata": {
            "tags": []
          },
          "execution_count": 166
        }
      ]
    },
    {
      "cell_type": "code",
      "metadata": {
        "id": "inEwMdl377fQ"
      },
      "source": [
        "Acc = accuracy_score(y_test, prediction)"
      ],
      "execution_count": 170,
      "outputs": []
    },
    {
      "cell_type": "code",
      "metadata": {
        "colab": {
          "base_uri": "https://localhost:8080/"
        },
        "id": "hSzrh41p8ef9",
        "outputId": "1e65e9ef-0280-46c4-94ab-8d2bbacbcdd4"
      },
      "source": [
        "print(\"LR Model Acc : \",Acc*100)"
      ],
      "execution_count": 173,
      "outputs": [
        {
          "output_type": "stream",
          "text": [
            "LR Model Acc :  95.33\n"
          ],
          "name": "stdout"
        }
      ]
    },
    {
      "cell_type": "code",
      "metadata": {
        "id": "fQyu19Sq9C8L"
      },
      "source": [
        ""
      ],
      "execution_count": null,
      "outputs": []
    },
    {
      "cell_type": "code",
      "metadata": {
        "colab": {
          "base_uri": "https://localhost:8080/"
        },
        "id": "UixAyaC-9Z5n",
        "outputId": "0d14932b-671c-472a-ebd1-7c5108af6f6f"
      },
      "source": [
        "print('Name of the Friends of user')\n",
        "friends = []\n",
        "for friend in tweepy.Cursor(api.friends, screen_name = 'RajiniFollowers').items(20):\n",
        "    try:\n",
        "                friends.append(friend.screen_name)\n",
        "                print(friend.screen_name)\n",
        "                time.sleep()\n",
        "    except Exception as e:\n",
        "                pass\n",
        "\n",
        "with open(\"TestOrg.txt\", \"w\") as f:\n",
        "     for item in friends:\n",
        "        f.write(\"%s\\n\" % item)"
      ],
      "execution_count": 174,
      "outputs": [
        {
          "output_type": "stream",
          "text": [
            "Name of the Friends of user\n",
            "Narendra4_U\n",
            "Yuvrajganesan\n",
            "latharajnikanth\n",
            "immancomposer\n",
            "directorsiva\n",
            "sunpictures\n",
            "anirudhofficial\n",
            "rajinikanth\n",
            "soundaryaarajni\n",
            "dhanushkraja\n"
          ],
          "name": "stdout"
        }
      ]
    },
    {
      "cell_type": "code",
      "metadata": {
        "colab": {
          "base_uri": "https://localhost:8080/"
        },
        "id": "zJ5iYm7L-E1T",
        "outputId": "50683d8e-2a00-4ec1-b868-952e0db47180"
      },
      "source": [
        "Total_Data = []\n",
        "fo = open(\"TestOrg.txt\", \"r\")\n",
        "f = fo.readlines()\n",
        "fo.close()\n",
        "dataset = map(lambda s: s.strip(),f)\n",
        "try:\n",
        "    for datavar in dataset:\n",
        "        data = api.get_user(datavar)\n",
        "        counter = 0\n",
        "        for status in tweepy.Cursor(api.user_timeline, id = datavar).items(30):\n",
        "            try:\n",
        "                counter= counter+1\n",
        "                Total_Data.append(status)\n",
        "                time.sleep()\n",
        "            except Exception as e:\n",
        "                pass\n",
        "except Exception as e:\n",
        "    pass\n",
        "print(len(Total_Data))"
      ],
      "execution_count": 175,
      "outputs": [
        {
          "output_type": "stream",
          "text": [
            "300\n"
          ],
          "name": "stdout"
        }
      ]
    },
    {
      "cell_type": "code",
      "metadata": {
        "colab": {
          "base_uri": "https://localhost:8080/"
        },
        "id": "Q2DdwopL-Sw4",
        "outputId": "4ec7b8d0-1bc8-420d-968a-ce2a20bf72e5"
      },
      "source": [
        "import urllib.parse\n",
        "import pandas as pd\n",
        "\n",
        "def process_http(string):\n",
        "    url_count = 0\n",
        "    for i in string.split():\n",
        "        s, n, p, pa, q, f = urllib.parse.urlparse(i)\n",
        "        if s and n:\n",
        "            url_count += 1\n",
        "    return url_count\n",
        "\n",
        "def process_hashtag(string):\n",
        "    hashtag_count = 0\n",
        "    for i in string.split():\n",
        "        s, n, p, pa, q, f = urllib.parse.urlparse(i)\n",
        "        if i[:1] == '#':\n",
        "            hashtag_count += 1\n",
        "    return hashtag_count\n",
        "\n",
        "def process_mention(string):\n",
        "    mention_count=0\n",
        "    for i in string.split():\n",
        "        s, n, p, pa, q, f = urllib.parse.urlparse(i)\n",
        "        if i[:1] == '@':\n",
        "            mention_count += 1\n",
        "    return mention_count\n",
        "def process_data(Total_Data):\n",
        "    TwittID = [tweet.id for tweet in Total_Data]\n",
        "    # Making the dataset in pandas frame\n",
        "    Data = pd.DataFrame(TwittID, columns = ['TwittID'])\n",
        "    # processing the data in Tweet level\n",
        "    \n",
        "    Data[\"TextData\"] = [tweet.text for tweet in Total_Data]\n",
        "    Data[\"TweetCreatedAt\"] = [tweet.created_at for tweet in Total_Data]\n",
        "    Data[\"RetweetCount\"] = [tweet.retweet_count for tweet in Total_Data]\n",
        "    Data[\"TweetFavouriteCount\"] = [tweet.favorite_count for tweet in Total_Data]\n",
        "    Data[\"TweetSource\"] = [tweet.source for tweet in Total_Data]\n",
        "    \n",
        "    # processing the data in User Graph level\n",
        "    \n",
        "    Data[\"UserID\"] = [tweet.author.id for tweet in Total_Data]\n",
        "    Data[\"UserScreenName\"] = [tweet.author.screen_name for tweet in Total_Data]\n",
        "    Data[\"UserName\"] = [tweet.author.name for tweet in Total_Data]\n",
        "    Data[\"UserCreatedAt\"] = [tweet.author.created_at for tweet in Total_Data]\n",
        "    Data[\"UserDescription\"] = [tweet.author.description for tweet in Total_Data]\n",
        "    Data[\"UserDescriptionLength\"] = [len(tweet.author.description) for tweet in Total_Data]\n",
        "    Data[\"UserFollowersCount\"] = [tweet.author.followers_count for tweet in Total_Data]\n",
        "    Data[\"UserFriendsCount\"] = [tweet.author.friends_count for tweet in Total_Data]\n",
        "    Data[\"UserLocation\"] = [tweet.author.location for tweet in Total_Data]\n",
        "    \n",
        "    # Data[\"url\"] = [tweet.author.url for in Total_Data]\n",
        "    # Data[\"User_mention\"] = [user_mentions.author.screen_name for tweet in Total_Data]\n",
        "    # Data[\"HashTag\"] = [hashtag.text for tweet in Total_Data]\n",
        "    \n",
        "    Data[\"HttpCount\"] = [process_http(tweet.text) for tweet in Total_Data]\n",
        "    Data[\"HashtagCount\"] = [process_hashtag(tweet.text) for tweet in Total_Data]\n",
        "    Data[\"MentionCount\"] = [process_mention(tweet.text) for tweet in Total_Data]\n",
        "    Data[\"TweetCount\"] = [tweet.author.statuses_count for tweet in Total_Data]\n",
        "    return Data\n",
        "Data = process_data(Total_Data)\n",
        "Data.shape"
      ],
      "execution_count": 177,
      "outputs": [
        {
          "output_type": "execute_result",
          "data": {
            "text/plain": [
              "(300, 19)"
            ]
          },
          "metadata": {
            "tags": []
          },
          "execution_count": 177
        }
      ]
    },
    {
      "cell_type": "code",
      "metadata": {
        "id": "2jqxBh1V-a6h"
      },
      "source": [
        ""
      ],
      "execution_count": null,
      "outputs": []
    }
  ]
}